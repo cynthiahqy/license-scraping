{
 "cells": [
  {
   "cell_type": "markdown",
   "metadata": {},
   "source": [
    "# FCC Application Scraping"
   ]
  },
  {
   "cell_type": "markdown",
   "metadata": {},
   "source": [
    "## Set up selenium webdriver with Firefox\n",
    "* Download Firefox driver [geckodriver](https://github.com/mozilla/geckodriver/releases) for selenium\n",
    "* Move the driver executable into the same directory as this notebook (or update the path to the executable in `scrape_table_for_call_sign`)\n",
    "* `pip install selenium`"
   ]
  },
  {
   "cell_type": "code",
   "execution_count": 1,
   "metadata": {},
   "outputs": [],
   "source": [
    "from bs4 import BeautifulSoup\n",
    "import time"
   ]
  },
  {
   "cell_type": "code",
   "execution_count": 39,
   "metadata": {},
   "outputs": [],
   "source": [
    "from selenium import webdriver\n",
    "from selenium.webdriver.common.keys import Keys\n",
    "from selenium.webdriver.firefox.options import Options  \n",
    "from selenium.webdriver.support.ui import Select\n",
    "from selenium.webdriver.support.ui import WebDriverWait\n",
    "from selenium.webdriver.common.by import By\n",
    "from selenium.webdriver.support import expected_conditions as EC\n",
    "from selenium.common.exceptions import NoSuchElementException        "
   ]
  },
  {
   "cell_type": "markdown",
   "metadata": {},
   "source": [
    "## Scraping FCC tables for an individual call sign"
   ]
  },
  {
   "cell_type": "code",
   "execution_count": 40,
   "metadata": {},
   "outputs": [],
   "source": [
    "def element_exists(driver, xpath):\n",
    "    \"\"\"\n",
    "    Helper function that checks if the element at the given xpath exists on\n",
    "    driver's current page. This is used to check if there is a \"Next\" button\n",
    "    -- to scrape through multiple pages of the FCC's paginated tables.\n",
    "    \"\"\"\n",
    "    try:\n",
    "        driver.find_element_by_xpath(xpath)\n",
    "    except NoSuchElementException:\n",
    "        return False\n",
    "    return True\n"
   ]
  },
  {
   "cell_type": "code",
   "execution_count": 41,
   "metadata": {},
   "outputs": [],
   "source": [
    "def scrape_table_page(innerHTML):\n",
    "    \"\"\"\n",
    "    Extracts the following details from a call sign table page:\n",
    "        * File Number\n",
    "        * Call Sign/Lease ID\n",
    "        * Applicant Name\n",
    "        * FRN\n",
    "        * Purpose - split into Purpose_Main and Purpose_Note\n",
    "        * Radio\n",
    "        * Service\n",
    "        * Receipt\n",
    "        * Date\n",
    "        * Status\n",
    "    Returns as a list of lists.\n",
    "    \"\"\"\n",
    "    soup = BeautifulSoup(innerHTML, \"lxml\")\n",
    "    table_page = soup.find(\"table\", {\"summary\": \"Application search results\"})\n",
    "    \n",
    "    # run through each row\n",
    "    rows = table_page.find_all(\"tr\")[1:-1]\n",
    "    table_data = []\n",
    "    for row in rows:  # note: skip the first (header) and last (pagination) rows\n",
    "        \n",
    "        # run through each cell of each row\n",
    "        cols = row.find_all(\"td\")\n",
    "        row_data = []\n",
    "        for i in range(1, len(cols)): # note: skip the first (index) cell\n",
    "            \n",
    "            # extract cell data, trim leading/trailing whitespace\n",
    "            cell_data = cols[i].get_text().strip()\n",
    "            \n",
    "            # fifth-index cells \"Purpose\" has to get split into two cols\n",
    "            if i == 5:\n",
    "                \n",
    "                purpose = cell_data.split(\"\\n\")\n",
    "                purpose_main = purpose[0].strip()\n",
    "                purpose_note = \"\"\n",
    "                \n",
    "                # sometimes the \"Purpose\" column has an optional note\n",
    "                if len(purpose) >= 2:\n",
    "                    purpose_note = purpose[-1].strip()\n",
    "                    \n",
    "                row_data.append(purpose_main)\n",
    "                row_data.append(purpose_note)\n",
    "            \n",
    "            # other cells can be inserted as normal\n",
    "            else:\n",
    "                row_data.append(cell_data)\n",
    "                \n",
    "        table_data.append(row_data)\n",
    "        \n",
    "    return(table_data)\n"
   ]
  },
  {
   "cell_type": "code",
   "execution_count": 50,
   "metadata": {},
   "outputs": [],
   "source": [
    "def scrape_table_for_call_sign(call_sign, without_browser=False):\n",
    "    \"\"\"\n",
    "    Scrapes the FCC Application Search database for a given call sign.\n",
    "    \n",
    "    Returns the table as a list of lists, for example:\n",
    "    [\n",
    "      ['File Number', 'Call Sign/Lease ID', 'Applicant Name', 'FRN', 'Purpose_Main', 'Purpose_Note', 'Radio Service', 'Receipt Date', 'Status'],\n",
    "      ['0000214527',  'KNKN555',            'AT&T',           '',    'Amendment',    'Transfer Control', 'AL',        '09/05/2000',   'Granted'],\n",
    "      ...,\n",
    "      ...\n",
    "    ]\n",
    "    \n",
    "    \"\"\"\n",
    "    tick = time.time()\n",
    "    print(\"LOG[INFO]: START %s \" % call_sign)\n",
    "    \n",
    "    # driver config - start in private\n",
    "    firefox_profile = webdriver.FirefoxProfile()\n",
    "    firefox_profile.set_preference(\"browser.privatebrowsing.autostart\", True)\n",
    "    \n",
    "    # (optional) don't open up browser\n",
    "    firefox_options = Options()\n",
    "    if without_browser:\n",
    "        firefox_options.add_argument(\"--headless\")\n",
    "    \n",
    "    # spin up the webdriver\n",
    "    firefox = webdriver.Firefox(options=firefox_options, executable_path=\"./geckodriver\")\n",
    "    firefox.get(\"https://wireless2.fcc.gov/UlsApp/ApplicationSearch/searchAdvanced.jsp\")\n",
    "    \n",
    "    # specify the call sign that we want to scrape for\n",
    "    callsign = firefox.find_element_by_id(\"ulsCallSign\")\n",
    "    callsign.send_keys(call_sign)\n",
    "    \n",
    "    # set pagination to 100 (maximum)\n",
    "    pagination = Select(firefox.find_element_by_xpath(\"//select[@name='pageSize']\"))\n",
    "    pagination.select_by_visible_text(\"100\")\n",
    "    \n",
    "    # submit the search form, wait for load\n",
    "    firefox.find_element_by_name(\"search\").submit()\n",
    "    WebDriverWait(firefox, 15).until(EC.url_changes(\"https://wireless2.fcc.gov/UlsApp/ApplicationSearch/searchAdvanced.jsp\"))\n",
    "    WebDriverWait(firefox, 15).until(lambda _: firefox.execute_script(\"return document.readyState\") == \"complete\")\n",
    "    \n",
    "    table_data = []\n",
    "    \n",
    "    # scrape the table on the first page\n",
    "    innerHTML = firefox.execute_script(\"return document.body.innerHTML\")\n",
    "    table_data += scrape_table_page(innerHTML)\n",
    "    \n",
    "    # as long there is a link to \"next page\"...\n",
    "    next_page_xpath = \"//*[@title='Next page of results']\"\n",
    "    while element_exists(firefox, next_page_xpath):\n",
    "        # ... go to next page\n",
    "        firefox.find_element_by_xpath(next_page_xpath).click()\n",
    "        # ... wait for load\n",
    "        WebDriverWait(firefox, 15).until(lambda _: firefox.execute_script(\"return document.readyState\") == \"complete\")\n",
    "        # .. and scrape\n",
    "        innerHTML = firefox.execute_script(\"return document.body.innerHTML\")\n",
    "        table_data += scrape_table_page(innerHTML)\n",
    "\n",
    "    # gracefully close the webdriver\n",
    "    firefox.quit()\n",
    "    \n",
    "    tock = time.time()\n",
    "    print(\"LOG[INFO]: END %s (%2f seconds)\" % (call_sign, tock - tick))\n",
    "    \n",
    "    return table_data\n",
    "     "
   ]
  },
  {
   "cell_type": "markdown",
   "metadata": {},
   "source": [
    "## Scrape the FCC tables for a list of call signs"
   ]
  },
  {
   "cell_type": "code",
   "execution_count": 51,
   "metadata": {},
   "outputs": [],
   "source": [
    "# read in the list of FCC callsigns\n",
    "call_signs = [\"KNKN555\", \"KNKN555\"]"
   ]
  },
  {
   "cell_type": "code",
   "execution_count": 52,
   "metadata": {},
   "outputs": [
    {
     "name": "stdout",
     "output_type": "stream",
     "text": [
      "LOG[INFO]: START KNKN555 \n",
      "LOG[INFO]: END KNKN555 (12.824816 seconds)\n",
      "LOG[INFO]: START KNKN555 \n",
      "LOG[INFO]: END KNKN555 (12.443865 seconds)\n"
     ]
    }
   ],
   "source": [
    "# collects the scraped data for *all* the call signs into a single python list\n",
    "scraped_data = []\n",
    "for cs in call_signs:\n",
    "    scraped_data += scrape_table_for_call_sign(\"KNKN555\", without_browser=True)"
   ]
  },
  {
   "cell_type": "code",
   "execution_count": 53,
   "metadata": {},
   "outputs": [],
   "source": [
    "# sanity check over the data for KNKN555\n",
    "assert(len(scraped_data) == 168)\n",
    "for row in scraped_data:\n",
    "    assert(len(row) == 9)"
   ]
  },
  {
   "cell_type": "code",
   "execution_count": 54,
   "metadata": {},
   "outputs": [
    {
     "name": "stdout",
     "output_type": "stream",
     "text": [
      "['0000083337', '', 'AT&T Wireless Services of Florida, Inc.', '', 'Assignment of Authorization', '', 'AL', '02/18/2000', 'Consummated']\n",
      "['0000214527', 'KNKN555', 'AT&T Wireless Services of Florida, Inc.', '', 'Renewal/Modification', '', 'CL', '09/05/2000', 'Granted']\n",
      "['0000287045', 'KNKN555', 'AT&T Wireless Services of Florida, Inc.', '', 'Duplicate License', '', 'CL', '12/08/2000', 'Granted']\n",
      "['0000326671', 'KNKN555', 'AT&T Wireless Services of Florida, Inc.', '', 'Duplicate License', '', 'CL', '01/16/2001', 'Granted']\n",
      "['0000446751', 'KNKN555', 'AT&T Wireless Services of Florida, Inc.', '', 'Administrative Update', '', 'CL', '05/02/2001', 'Granted']\n",
      "['0000545823', '', 'AT&T Wireless Services, Inc.', '0004122032', 'Transfer of Control', '', 'AL', '08/01/2001', 'Inactive']\n",
      "['0000545823', '', 'AT&T Wireless Services, Inc.', '0004122032', 'Amendment', '(Transfer of Control)', 'AL', '12/20/2001', 'Granted']\n",
      "['0000949139', 'KNKN555', 'AT&T Wireless Services of Florida, Inc.', '', 'Modification', '', 'CL', '07/02/2002', 'Inactive']\n",
      "['0000949139', 'KNKN555', 'AT&T Wireless Services of Florida, Inc.', '', 'Amendment', '(Modification)', 'CL', '07/18/2002', 'Inactive']\n",
      "['0000949139', 'KNKN555', 'AT&T Wireless Services of Florida, Inc.', '', 'Amendment', '(Modification)', 'CL', '11/14/2002', 'Granted']\n"
     ]
    }
   ],
   "source": [
    "# print first 10 rows\n",
    "for row in scraped_data[:10]:\n",
    "    print(row)"
   ]
  },
  {
   "cell_type": "markdown",
   "metadata": {},
   "source": [
    "# - Ignore below this line -\n",
    "\n",
    "This is code that's probably worth keeping as as reference for now -- in case it gives us insight into solving any bugs we run into. But you can ignore it when you run the scraper."
   ]
  },
  {
   "cell_type": "code",
   "execution_count": null,
   "metadata": {},
   "outputs": [],
   "source": [
    "def scrape_table_for_call_sign(call_sign):\n",
    "    \n",
    "    # driver config - start in private\n",
    "    firefox_profile = webdriver.FirefoxProfile()\n",
    "    firefox_profile.set_preference(\"browser.privatebrowsing.autostart\", True)\n",
    "    \n",
    "    firefox = webdriver.Firefox(executable_path=\"./geckodriver\")\n",
    "    firefox.get(\"https://wireless2.fcc.gov/UlsApp/ApplicationSearch/searchAdvanced.jsp\")\n",
    "    \n",
    "    # fill in the text input\n",
    "    callsign = firefox.find_element_by_id(\"ulsCallSign\")\n",
    "    callsign.send_keys(call_sign)\n",
    "    \n",
    "    # set pagination to 100 (maximum)\n",
    "    pagination = Select(firefox.find_element_by_xpath(\"//select[@name='pageSize']\"))\n",
    "    pagination.select_by_visible_text(\"10\")\n",
    "    \n",
    "    # submit the search form, wait for load\n",
    "    firefox.find_element_by_name(\"search\").submit()\n",
    "    WebDriverWait(firefox, 15).until(EC.url_changes(\"https://wireless2.fcc.gov/UlsApp/ApplicationSearch/searchAdvanced.jsp\"))\n",
    "    WebDriverWait(firefox, 15).until(lambda _: firefox.execute_script(\"return document.readyState\") == \"complete\")\n",
    "    \n",
    "    #print(firefox.page_source.encode(\"utf-8\"))\n",
    "    \n",
    "    #innerHTML = firefox.execute_script(\"return document.body.innerHTML\")\n",
    "    #print(innerHTML)\n",
    "    \n",
    "    # find the link the next page if it exists\n",
    "    firefox.find_element_by_xpath(\"//*[@title='Next page of results']\").click()\n",
    "\n",
    "    #next_link = firefox.find_element_by_xpath(\"//*[@title=\\\"Next page of results\\\"][0]\")\n",
    "    #next_link = firefox.find_element_by_xpath(\"//a[@title='Next page of results']\")\n",
    "    #print(next_link)\n",
    "    \n",
    "    #page_links = firefox.find_element_by_xpath(\"//a[@href]\")\n",
    "    #print(page_links)\n",
    "    \n",
    "    # count the number of pages we need to iterate through\n",
    "    #pages = firefox.find_element_by_xpath(\"//*[contains(@title, 'Page')]\")\n",
    "    #pages = firefox.find_element_by_css_selector(\"//[title*='Page']\")\n",
    "    #print(pages)\n",
    "    \n",
    "    # gracefully close the webdriver\n",
    "    time.sleep(10)\n",
    "    firefox.quit()"
   ]
  },
  {
   "cell_type": "code",
   "execution_count": null,
   "metadata": {},
   "outputs": [],
   "source": [
    "scrape_table_for_call_sign(\"KNKN555\")"
   ]
  },
  {
   "cell_type": "code",
   "execution_count": null,
   "metadata": {},
   "outputs": [],
   "source": [
    "firefox = webdriver.Firefox(executable_path=\"./geckodriver\")\n",
    "firefox.get(\"https://wireless2.fcc.gov/UlsApp/ApplicationSearch/searchAdvanced.jsp\")\n",
    "\n",
    "# fill in the text input\n",
    "callsign = firefox.find_element_by_id(\"ulsCallSign\")\n",
    "callsign.send_keys(\"KNKN555\")\n",
    "\n",
    "# fill in the dropdown\n",
    "#dropdown= firefox.find_element_by_id(\"radioServiceCode\")\n",
    "#dropdown.send_keys(\"CL - Cellular\")\n",
    "\n",
    "# pagination to max\n",
    "display = firefox.find_element_by_id(\"ulsRowsPerPage\")\n",
    "display.send_keys(100)\n",
    "\n",
    "# submit form\n",
    "firefox.find_element_by_name(\"search\").submit()\n",
    "WebDriverWait(firefox, 15).until(EC.url_changes(\"https://wireless2.fcc.gov/UlsApp/ApplicationSearch/searchAdvanced.jsp\"))\n",
    "#test = WebDriverWait(firefox, 3).until(EC.staleness_of((By.ID, 'ulsCallSign')))\n",
    "#test = firefox.implicitly_wait(10);\n",
    "\n",
    "print(firefox.execute_script(\"return document.readyState\"))\n",
    "\n",
    "WebDriverWait(firefox, 15).until( lambda _: firefox.execute_script(\"return document.readyState\") == \"complete\")\n",
    "print(firefox.current_url)\n",
    "\n",
    "# scrape out the table\n",
    "#print(firefox.page_source.encode(\"utf-8\"))\n",
    "innerHTML = firefox.execute_script(\"return document.body.innerHTML\")\n",
    "print(innerHTML)\n",
    "\n",
    "time.sleep(30)\n",
    "firefox.quit()"
   ]
  },
  {
   "cell_type": "code",
   "execution_count": null,
   "metadata": {},
   "outputs": [],
   "source": [
    "ffx = Firefox(executable_path=\"./geckodriver\")\n",
    "request_data = {\n",
    "    \"basicSearchType\": \"basicSearchCallSign\",\n",
    "    \"basicSearchTerm\": \"KNKN555\",\n",
    "    \"x\": \"24\",\n",
    "    \"y\": \"4\",\n",
    "    \"exactMatchInd\": \"Y\",\n",
    "    \"jsValidated\" : \"true\",\n",
    "    \"currentPage\": \"searchAppl.jsp\",\n",
    "    \"actionElement\": \"actionApplicationSearch\"\n",
    "}\n",
    "ffx.request(\"POST\",\n",
    "    \"https://wireless2.fcc.gov/UlsApp/ApplicationSearch/ApplSearchController\",\n",
    "    data=request_data)"
   ]
  },
  {
   "cell_type": "code",
   "execution_count": null,
   "metadata": {},
   "outputs": [],
   "source": [
    "options = Options()  \n",
    "#options.add_argument(\"--headless\")  \n",
    "chrome = webdriver.Chrome(\"./chromedriver\")\n",
    "chrome.get(\"www.google.com.au\")\n",
    "#chrome.request(\"GET\", \"https://www.google.com.au\")\n",
    "#chrome.request(\"GET\", \"https://wireless2.fcc.gov/UlsApp/ApplicationSearch/searchAppl.jsp\")"
   ]
  },
  {
   "cell_type": "code",
   "execution_count": null,
   "metadata": {},
   "outputs": [],
   "source": [
    "referrer = \"https://wireless2.fcc.gov/UlsApp/ApplicationSearch/searchAppl.jsp\"\n",
    "headers = { \"referrer\" : referrer }\n",
    "payload = {\n",
    "    \"basicSearchType\": \"basicSearchCallSign\",\n",
    "    \"basicSearchTerm\": \"KNKN555\",\n",
    "    \"x\": 24,\n",
    "    \"y\": 4,\n",
    "    \"exactMatchInd\": \"Y\",\n",
    "    \"jsValidated\" : \"true\",\n",
    "    \"currentPage\": \"searchAppl.jsp\",\n",
    "    \"actionElement\": \"actionApplicationSearch\"\n",
    "}\n",
    "\n",
    "res = requests.post(\n",
    "    \"https://wireless2.fcc.gov/UlsApp/ApplicationSearch/ApplSearchController\",\n",
    "    data=payload,\n",
    "    headers=headers,\n",
    ")"
   ]
  },
  {
   "cell_type": "code",
   "execution_count": null,
   "metadata": {},
   "outputs": [],
   "source": [
    "res.history[1].url"
   ]
  },
  {
   "cell_type": "code",
   "execution_count": null,
   "metadata": {},
   "outputs": [],
   "source": [
    "options = Options()  \n",
    "#options.add_argument(\"--headless\")  \n",
    "chrome = Chrome(\"./chromedriver\", options=options)\n",
    "chrome.request(\"GET\", \"https://www.fcc.gov/\")"
   ]
  },
  {
   "cell_type": "code",
   "execution_count": null,
   "metadata": {},
   "outputs": [],
   "source": [
    "chrome.request(\"GET\", \"https://www.fcc.gov/\")"
   ]
  },
  {
   "cell_type": "code",
   "execution_count": null,
   "metadata": {},
   "outputs": [],
   "source": [
    "request_data = {\n",
    "    \"basicSearchType\": \"basicSearchCallSign\",\n",
    "    \"basicSearchTerm\": \"KNKN555\",\n",
    "    \"x\": 24,\n",
    "    \"y\": 4,\n",
    "    \"exactMatchInd\": \"Y\",\n",
    "    \"jsValidated\" : \"true\",\n",
    "    \"currentPage\": \"searchAppl.jsp\",\n",
    "    \"actionElement\": \"actionApplicationSearch\"\n",
    "}\n",
    "\n",
    "res = chrome.request(\n",
    "    \"POST\",\n",
    "    \"https://wireless2.fcc.gov/UlsApp/ApplicationSearch/ApplSearchController\",\n",
    "    data=request_data\n",
    ")"
   ]
  },
  {
   "cell_type": "code",
   "execution_count": null,
   "metadata": {},
   "outputs": [],
   "source": [
    "chrome = Chrome(\"./chromedriver\")\n",
    "response = chrome.request(\n",
    "    \"POST\",\n",
    "    \"https://wireless2.fcc.gov/UlsApp/ApplicationSearch/ApplSearchController\",\n",
    "    data={\n",
    "        \"basicSearchType\": \"basicSearchCallSign\",\n",
    "        \"basicSearchTerm\": \"KNKN555\",\n",
    "        \"x\": 24,\n",
    "        \"y\": 4,\n",
    "        \"exactMatchInd\": \"Y\",\n",
    "        \"jsValidated\" : \"true\",\n",
    "        \"currentPage\": \"searchAppl.jsp\",\n",
    "        \"actionElement\": \"actionApplicationSearch\"\n",
    "    }\n",
    ")"
   ]
  },
  {
   "cell_type": "code",
   "execution_count": null,
   "metadata": {},
   "outputs": [],
   "source": [
    "response = chrome.request(\n",
    "    \"GET\",\n",
    "    \"https://wireless2.fcc.gov/UlsApp/ApplicationSearch/results.jsp?applSearchKey=applSearchKey2019321143892\"\n",
    ")"
   ]
  },
  {
   "cell_type": "code",
   "execution_count": null,
   "metadata": {},
   "outputs": [],
   "source": [
    "res = requests.post(\n",
    "    \"https://wireless2.fcc.gov/UlsApp/ApplicationSearch/ApplSearchController\",\n",
    "    data={\n",
    "        \"basicSearchType\": \"basicSearchCallSign\",\n",
    "        \"basicSearchTerm\": \"KNKN555\",\n",
    "        \"x\": \"24\",\n",
    "        \"y\": \"4\",\n",
    "        \"exactMatchInd\": \"Y\",\n",
    "        \"jsValidated\" : \"true\",\n",
    "        \"currentPage\": \"searchAppl.jsp\",\n",
    "        \"actionElement\": \"actionApplicationSearch\"\n",
    "    }\n",
    ")"
   ]
  }
 ],
 "metadata": {
  "kernelspec": {
   "display_name": "Python 3",
   "language": "python",
   "name": "python3"
  },
  "language_info": {
   "codemirror_mode": {
    "name": "ipython",
    "version": 3
   },
   "file_extension": ".py",
   "mimetype": "text/x-python",
   "name": "python",
   "nbconvert_exporter": "python",
   "pygments_lexer": "ipython3",
   "version": "3.6.5"
  }
 },
 "nbformat": 4,
 "nbformat_minor": 2
}
