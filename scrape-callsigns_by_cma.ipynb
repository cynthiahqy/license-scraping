{
 "cells": [
  {
   "cell_type": "markdown",
   "metadata": {},
   "source": [
    "# FCC Application Scraping"
   ]
  },
  {
   "cell_type": "markdown",
   "metadata": {},
   "source": [
    "## Set up selenium webdriver with Firefox\n",
    "* Download Firefox driver [geckodriver](https://github.com/mozilla/geckodriver/releases) for selenium\n",
    "* Move the driver executable into the same directory as this notebook (or update the path to the executable in `scrape_table_for_call_sign`)\n",
    "* `pip install selenium`\n",
    "\n",
    "-- see scrape-apps_by_callsign.ipynb for more details"
   ]
  },
  {
   "cell_type": "code",
   "execution_count": 1,
   "metadata": {},
   "outputs": [],
   "source": [
    "from bs4 import BeautifulSoup\n",
    "import time"
   ]
  },
  {
   "cell_type": "code",
   "execution_count": 2,
   "metadata": {},
   "outputs": [],
   "source": [
    "from selenium import webdriver\n",
    "from selenium.webdriver.common.keys import Keys\n",
    "from selenium.webdriver.firefox.options import Options  \n",
    "from selenium.webdriver.support.ui import Select\n",
    "from selenium.webdriver.support.ui import WebDriverWait\n",
    "from selenium.webdriver.common.by import By\n",
    "from selenium.webdriver.support import expected_conditions as EC\n",
    "from selenium.common.exceptions import NoSuchElementException        "
   ]
  },
  {
   "cell_type": "markdown",
   "metadata": {},
   "source": [
    "## Scraping FCC tables for an individual call sign"
   ]
  },
  {
   "cell_type": "markdown",
   "metadata": {},
   "source": [
    "def element_exists(driver, xpath):\n",
    "    \"\"\"\n",
    "    Helper function that checks if the element at the given xpath exists on\n",
    "    driver's current page. This is used to check if there is a \"Next\" button\n",
    "    -- to scrape through multiple pages of the FCC's paginated tables.\n",
    "    \"\"\"\n",
    "    try:\n",
    "        driver.find_element_by_xpath(xpath)\n",
    "    except NoSuchElementException:\n",
    "        return False\n",
    "    return True\n"
   ]
  },
  {
   "cell_type": "markdown",
   "metadata": {},
   "source": [
    "def scrape_table_page(innerHTML):\n",
    "    \"\"\"\n",
    "    Extracts the following details from a call sign table page:\n",
    "        * File Number\n",
    "        * Call Sign/Lease ID\n",
    "        * Applicant Name\n",
    "        * FRN\n",
    "        * Purpose - split into Purpose_Main and Purpose_Note\n",
    "        * Radio\n",
    "        * Service\n",
    "        * Receipt\n",
    "        * Date\n",
    "        * Status\n",
    "    Returns as a list of lists.\n",
    "    \"\"\"\n",
    "    soup = BeautifulSoup(innerHTML, \"lxml\")\n",
    "    table_page = soup.find(\"table\", {\"summary\": \"Application search results\"})\n",
    "    \n",
    "    # run through each row\n",
    "    rows = table_page.find_all(\"tr\")[1:-1]\n",
    "    table_data = []\n",
    "    for row in rows:  # note: skip the first (header) and last (pagination) rows\n",
    "        \n",
    "        # run through each cell of each row\n",
    "        cols = row.find_all(\"td\")\n",
    "        row_data = []\n",
    "        for i in range(1, len(cols)): # note: skip the first (index) cell\n",
    "            \n",
    "            # extract cell data, trim leading/trailing whitespace\n",
    "            cell_data = cols[i].get_text().strip()\n",
    "            \n",
    "            # fifth-index cells \"Purpose\" has to get split into two cols\n",
    "            if i == 5:\n",
    "                \n",
    "                purpose = cell_data.split(\"\\n\")\n",
    "                purpose_main = purpose[0].strip()\n",
    "                purpose_note = \"\"\n",
    "                \n",
    "                # sometimes the \"Purpose\" column has an optional note\n",
    "                if len(purpose) >= 2:\n",
    "                    purpose_note = purpose[-1].strip()\n",
    "                    \n",
    "                row_data.append(purpose_main)\n",
    "                row_data.append(purpose_note)\n",
    "            \n",
    "            # other cells can be inserted as normal\n",
    "            else:\n",
    "                row_data.append(cell_data)\n",
    "                \n",
    "        table_data.append(row_data)\n",
    "        \n",
    "    return(table_data)\n"
   ]
  },
  {
   "cell_type": "markdown",
   "metadata": {},
   "source": [
    "def scrape_table_for_cma(cma, without_browser=False):\n",
    "    \"\"\"\n",
    "    Scrapes the (Market Based) License Search database for a given Cellular Market Area (cma).\n",
    "    \n",
    "    Returns the table as a list of lists, for example:\n",
    "    [\n",
    "      ['File Number', 'Call Sign/Lease ID', 'Applicant Name', 'FRN', 'Purpose_Main', 'Purpose_Note', 'Radio Service', 'Receipt Date', 'Status'],\n",
    "      ['0000214527',  'KNKN555',            'AT&T',           '',    'Amendment',    'Transfer Control', 'AL',        '09/05/2000',   'Granted'],\n",
    "      ...,\n",
    "      ...\n",
    "    ]\n",
    "    \n",
    "    \"\"\"\n",
    "    tick = time.time()\n",
    "    print(\"LOG[INFO]: START %s \" % call_sign)\n",
    "    \n",
    "    # driver config - start in private\n",
    "    firefox_profile = webdriver.FirefoxProfile()\n",
    "    firefox_profile.set_preference(\"browser.privatebrowsing.autostart\", True)\n",
    "    \n",
    "    # (optional) don't open up browser\n",
    "    firefox_options = Options()\n",
    "    if without_browser:\n",
    "        firefox_options.add_argument(\"--headless\")\n",
    "    \n",
    "    # spin up the webdriver\n",
    "    firefox = webdriver.Firefox(options=firefox_options, executable_path=\"./geckodriver\")\n",
    "    firefox.get(\"https://wireless2.fcc.gov/UlsApp/UlsSearch/searchMarket.jsp\")\n",
    "    \n",
    "    # specify the market type we want to search for\n",
    "    in_type = Select(firefox.find_element_by_id(\"marketType\"))\n",
    "    in_type.select_by_value(\"CMA\")\n",
    "    \n",
    "    # specify the market we want to search for\n",
    "    in_mkt = Select(firefox.find_element_by_id(\"ulsMarket\"))\n",
    "    in_mkt.select_by_value(\"CMA001\")\n",
    "\n",
    "    # set pagination to 100 (maximum)\n",
    "    pagination = Select(firefox.find_element_by_xpath(\"//select[@name='pageSize']\"))\n",
    "    pagination.select_by_visible_text(\"100\")\n",
    "    \n",
    "    # submit the search form, wait for load\n",
    "    firefox.find_element_by_name(\"search\").submit()\n",
    "    WebDriverWait(firefox, 15).until(EC.url_changes(\"https://wireless2.fcc.gov/UlsApp/ApplicationSearch/searchAdvanced.jsp\"))\n",
    "    WebDriverWait(firefox, 15).until(lambda _: firefox.execute_script(\"return document.readyState\") == \"complete\")\n",
    "    \n",
    "    table_data = []\n",
    "    \n",
    "    # scrape the table on the first page\n",
    "    innerHTML = firefox.execute_script(\"return document.body.innerHTML\")\n",
    "    table_data += scrape_table_page(innerHTML)\n",
    "    \n",
    "    # as long there is a link to \"next page\"...\n",
    "    next_page_xpath = \"//*[@title='Next page of results']\"\n",
    "    while element_exists(firefox, next_page_xpath):\n",
    "        # ... go to next page\n",
    "        firefox.find_element_by_xpath(next_page_xpath).click()\n",
    "        # ... wait for load\n",
    "        WebDriverWait(firefox, 15).until(lambda _: firefox.execute_script(\"return document.readyState\") == \"complete\")\n",
    "        # .. and scrape\n",
    "        innerHTML = firefox.execute_script(\"return document.body.innerHTML\")\n",
    "        table_data += scrape_table_page(innerHTML)\n",
    "\n",
    "    # gracefully close the webdriver\n",
    "    firefox.quit()\n",
    "    \n",
    "    tock = time.time()\n",
    "    print(\"LOG[INFO]: END %s (%2f seconds)\" % (call_sign, tock - tick))\n",
    "    \n",
    "    return table_data\n",
    "     "
   ]
  },
  {
   "cell_type": "code",
   "execution_count": 3,
   "metadata": {},
   "outputs": [],
   "source": [
    "def scrape_table_for_cma(mkt_num, without_browser=False):\n",
    "\n",
    "    # driver config - start in private\n",
    "    firefox_profile = webdriver.FirefoxProfile()\n",
    "    firefox_profile.set_preference(\"browser.privatebrowsing.autostart\", True)\n",
    "    \n",
    "    # (optional) don't open up browser\n",
    "    firefox_options = Options()\n",
    "    if without_browser:\n",
    "        firefox_options.add_argument(\"--headless\")\n",
    "\n",
    "    # spin up the webdriver\n",
    "    firefox = webdriver.Firefox(options=firefox_options, executable_path=\"./geckodriver\")\n",
    "    firefox.get(\"https://wireless2.fcc.gov/UlsApp/UlsSearch/searchMarket.jsp\")\n",
    "\n",
    "    # specify the market type we want to search for\n",
    "    in_markettype = Select(firefox.find_element_by_id(\"marketType\"))\n",
    "    in_markettype.select_by_value(\"CMA\")\n",
    "\n",
    "    # specify the market we want to search for\n",
    "    in_mkt = Select(firefox.find_element_by_id(\"ulsMarket\"))\n",
    "    in_mkt.deselect_by_visible_text(\"All\")\n",
    "    in_mkt.select_by_value(mkt_num)\n",
    "\n",
    "    # submit search, wait for load\n",
    "    firefox.find_element_by_name(\"marketSearch\").submit()\n",
    "    WebDriverWait(firefox, 15).until(EC.url_changes(\"https://wireless2.fcc.gov/UlsApp/ApplicationSearch/searchAdvanced.jsp\"))\n",
    "    WebDriverWait(firefox, 15).until(lambda _: firefox.execute_script(\"return document.readyState\") == \"complete\")"
   ]
  },
  {
   "cell_type": "code",
   "execution_count": null,
   "metadata": {},
   "outputs": [],
   "source": [
    "def get_mktsearch_results(mkt_num)\n",
    "    # driver config - start in private\n",
    "    firefox_profile = webdriver.FirefoxProfile()\n",
    "    firefox_profile.set_preference(\"browser.privatebrowsing.autostart\", True)\n",
    "    \n",
    "    # (optional) don't open up browser\n",
    "    firefox_options = Options()\n",
    "    if without_browser:\n",
    "        firefox_options.add_argument(\"--headless\")\n",
    "\n",
    "    # spin up the webdriver\n",
    "    firefox = webdriver.Firefox(options=firefox_options, executable_path=\"./geckodriver\")\n",
    "    firefox.get(\"https://wireless2.fcc.gov/UlsApp/UlsSearch/searchMarket.jsp\")\n",
    "\n",
    "    # specify the market type we want to search for\n",
    "    in_markettype = Select(firefox.find_element_by_id(\"marketType\"))\n",
    "    in_markettype.select_by_value(\"CMA\")\n",
    "\n",
    "    # specify the market we want to search for\n",
    "    in_mkt = Select(firefox.find_element_by_id(\"ulsMarket\"))\n",
    "    in_mkt.deselect_by_visible_text(\"All\")\n",
    "    in_mkt.select_by_value(mkt_num)\n",
    "\n",
    "    # submit search, wait for load\n",
    "    firefox.find_element_by_name(\"marketSearch\").submit()"
   ]
  },
  {
   "cell_type": "code",
   "execution_count": 4,
   "metadata": {},
   "outputs": [
    {
     "ename": "NameError",
     "evalue": "name 'firefox' is not defined",
     "output_type": "error",
     "traceback": [
      "\u001b[0;31m---------------------------------------------------------------------------\u001b[0m",
      "\u001b[0;31mNameError\u001b[0m                                 Traceback (most recent call last)",
      "\u001b[0;32m<ipython-input-4-7661befe927d>\u001b[0m in \u001b[0;36m<module>\u001b[0;34m()\u001b[0m\n\u001b[1;32m      1\u001b[0m \u001b[0mscrape_table_for_cma\u001b[0m\u001b[0;34m(\u001b[0m\u001b[0;34m\"CMA001\"\u001b[0m\u001b[0;34m)\u001b[0m\u001b[0;34m\u001b[0m\u001b[0m\n\u001b[0;32m----> 2\u001b[0;31m \u001b[0mfirefox\u001b[0m\u001b[0;34m.\u001b[0m\u001b[0mquit\u001b[0m\u001b[0;34m(\u001b[0m\u001b[0;34m)\u001b[0m\u001b[0;34m\u001b[0m\u001b[0m\n\u001b[0m",
      "\u001b[0;31mNameError\u001b[0m: name 'firefox' is not defined"
     ]
    }
   ],
   "source": [
    "scrape_table_for_cma(\"CMA001\")\n",
    "firefox.quit()"
   ]
  },
  {
   "cell_type": "markdown",
   "metadata": {},
   "source": [
    "## Scrape the FCC tables for a list of call signs"
   ]
  },
  {
   "cell_type": "code",
   "execution_count": 12,
   "metadata": {},
   "outputs": [],
   "source": [
    "# read in the list of FCC callsigns\n",
    "call_signs = [\"KNKN555\", \"KNKN556\"]"
   ]
  },
  {
   "cell_type": "code",
   "execution_count": 13,
   "metadata": {},
   "outputs": [
    {
     "ename": "NameError",
     "evalue": "name 'scrape_table_for_call_sign' is not defined",
     "output_type": "error",
     "traceback": [
      "\u001b[0;31m---------------------------------------------------------------------------\u001b[0m",
      "\u001b[0;31mNameError\u001b[0m                                 Traceback (most recent call last)",
      "\u001b[0;32m<ipython-input-13-2f40798230cb>\u001b[0m in \u001b[0;36m<module>\u001b[0;34m()\u001b[0m\n\u001b[1;32m      2\u001b[0m \u001b[0mscraped_data\u001b[0m \u001b[0;34m=\u001b[0m \u001b[0;34m[\u001b[0m\u001b[0;34m]\u001b[0m\u001b[0;34m\u001b[0m\u001b[0m\n\u001b[1;32m      3\u001b[0m \u001b[0;32mfor\u001b[0m \u001b[0mcs\u001b[0m \u001b[0;32min\u001b[0m \u001b[0mcall_signs\u001b[0m\u001b[0;34m:\u001b[0m\u001b[0;34m\u001b[0m\u001b[0m\n\u001b[0;32m----> 4\u001b[0;31m     \u001b[0mscraped_data\u001b[0m\u001b[0;34m.\u001b[0m\u001b[0mappend\u001b[0m\u001b[0;34m(\u001b[0m\u001b[0mscrape_table_for_call_sign\u001b[0m\u001b[0;34m(\u001b[0m\u001b[0mcs\u001b[0m\u001b[0;34m,\u001b[0m \u001b[0mwithout_browser\u001b[0m\u001b[0;34m=\u001b[0m\u001b[0;32mFalse\u001b[0m\u001b[0;34m)\u001b[0m\u001b[0;34m)\u001b[0m\u001b[0;34m\u001b[0m\u001b[0m\n\u001b[0m",
      "\u001b[0;31mNameError\u001b[0m: name 'scrape_table_for_call_sign' is not defined"
     ]
    }
   ],
   "source": [
    "# collects the scraped data for *all* the call signs into a single python list\n",
    "scraped_data = []\n",
    "for cs in call_signs:\n",
    "    scraped_data.append(scrape_table_for_call_sign(cs, without_browser=False))"
   ]
  },
  {
   "cell_type": "code",
   "execution_count": 18,
   "metadata": {},
   "outputs": [],
   "source": [
    "# sanity check over data"
   ]
  },
  {
   "cell_type": "code",
   "execution_count": 54,
   "metadata": {},
   "outputs": [
    {
     "name": "stdout",
     "output_type": "stream",
     "text": [
      "['0000083337', '', 'AT&T Wireless Services of Florida, Inc.', '', 'Assignment of Authorization', '', 'AL', '02/18/2000', 'Consummated']\n",
      "['0000214527', 'KNKN555', 'AT&T Wireless Services of Florida, Inc.', '', 'Renewal/Modification', '', 'CL', '09/05/2000', 'Granted']\n",
      "['0000287045', 'KNKN555', 'AT&T Wireless Services of Florida, Inc.', '', 'Duplicate License', '', 'CL', '12/08/2000', 'Granted']\n",
      "['0000326671', 'KNKN555', 'AT&T Wireless Services of Florida, Inc.', '', 'Duplicate License', '', 'CL', '01/16/2001', 'Granted']\n",
      "['0000446751', 'KNKN555', 'AT&T Wireless Services of Florida, Inc.', '', 'Administrative Update', '', 'CL', '05/02/2001', 'Granted']\n",
      "['0000545823', '', 'AT&T Wireless Services, Inc.', '0004122032', 'Transfer of Control', '', 'AL', '08/01/2001', 'Inactive']\n",
      "['0000545823', '', 'AT&T Wireless Services, Inc.', '0004122032', 'Amendment', '(Transfer of Control)', 'AL', '12/20/2001', 'Granted']\n",
      "['0000949139', 'KNKN555', 'AT&T Wireless Services of Florida, Inc.', '', 'Modification', '', 'CL', '07/02/2002', 'Inactive']\n",
      "['0000949139', 'KNKN555', 'AT&T Wireless Services of Florida, Inc.', '', 'Amendment', '(Modification)', 'CL', '07/18/2002', 'Inactive']\n",
      "['0000949139', 'KNKN555', 'AT&T Wireless Services of Florida, Inc.', '', 'Amendment', '(Modification)', 'CL', '11/14/2002', 'Granted']\n"
     ]
    }
   ],
   "source": [
    "# print first 10 rows\n",
    "for row in scraped_data[:10]:\n",
    "    print(row)"
   ]
  }
 ],
 "metadata": {
  "kernelspec": {
   "display_name": "Python 3",
   "language": "python",
   "name": "python3"
  },
  "language_info": {
   "codemirror_mode": {
    "name": "ipython",
    "version": 3
   },
   "file_extension": ".py",
   "mimetype": "text/x-python",
   "name": "python",
   "nbconvert_exporter": "python",
   "pygments_lexer": "ipython3",
   "version": "3.6.5"
  }
 },
 "nbformat": 4,
 "nbformat_minor": 2
}
