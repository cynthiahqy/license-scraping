{
 "cells": [
  {
   "cell_type": "markdown",
   "metadata": {},
   "source": [
    "# FCC Application Scraping"
   ]
  },
  {
   "cell_type": "markdown",
   "metadata": {},
   "source": [
    "## Set up selenium webdriver with Firefox\n",
    "* Download Firefox driver [geckodriver](https://github.com/mozilla/geckodriver/releases) for selenium\n",
    "* Move the driver executable into the same directory as this notebook (or update the path to the executable in `scrape_table_for_call_sign`)\n",
    "* `pip install selenium`\n",
    "\n",
    "-- see scrape-apps_by_callsign.ipynb for more details"
   ]
  },
  {
   "cell_type": "code",
   "execution_count": 1,
   "metadata": {},
   "outputs": [],
   "source": [
    "from bs4 import BeautifulSoup\n",
    "import time"
   ]
  },
  {
   "cell_type": "code",
   "execution_count": 2,
   "metadata": {},
   "outputs": [],
   "source": [
    "from selenium import webdriver\n",
    "from selenium.webdriver.common.keys import Keys\n",
    "from selenium.webdriver.firefox.options import Options  \n",
    "from selenium.webdriver.support.ui import Select\n",
    "from selenium.webdriver.support.ui import WebDriverWait\n",
    "from selenium.webdriver.common.by import By\n",
    "from selenium.webdriver.support import expected_conditions as EC\n",
    "from selenium.common.exceptions import NoSuchElementException        "
   ]
  },
  {
   "cell_type": "code",
   "execution_count": 157,
   "metadata": {},
   "outputs": [],
   "source": [
    "import os"
   ]
  },
  {
   "cell_type": "markdown",
   "metadata": {},
   "source": [
    "## Test Search (CMA001)\n",
    "\n",
    "* https://stackabuse.com/python-check-if-a-file-or-directory-exists/\n",
    "* template for `scrape_table_for_CMA()`"
   ]
  },
  {
   "cell_type": "code",
   "execution_count": 162,
   "metadata": {},
   "outputs": [
    {
     "name": "stdout",
     "output_type": "stream",
     "text": [
      "test-search.html exists\n"
     ]
    }
   ],
   "source": [
    "if os.path.isfile(\"./test-search.html\"):\n",
    "    print(\"test-search.html exists\")\n",
    "\n",
    "else:\n",
    "    print(\"LOG[INFO]: Running Test Search\")\n",
    "\n",
    "    # Scrape Test Search results page for test market\n",
    "    mkt_num = \"CMA001\"\n",
    "\n",
    "    # driver config - start in private\n",
    "    firefox_profile = webdriver.FirefoxProfile()\n",
    "    firefox_profile.set_preference(\"browser.privatebrowsing.autostart\", True)\n",
    "\n",
    "    # spin up the webdriver\n",
    "    firefox = webdriver.Firefox(executable_path=\"./geckodriver\")\n",
    "    firefox.get(\"https://wireless2.fcc.gov/UlsApp/UlsSearch/searchMarket.jsp\")\n",
    "\n",
    "    # specify the market type we want to search for\n",
    "    in_markettype = Select(firefox.find_element_by_id(\"marketType\"))\n",
    "\n",
    "    in_markettype.select_by_value(\"CMA\")\n",
    "\n",
    "    # specify the market we want to search for\n",
    "    in_mkt = Select(firefox.find_element_by_id(\"ulsMarket\"))\n",
    "\n",
    "    in_mkt.deselect_by_visible_text(\"All\")\n",
    "    in_mkt.select_by_value(mkt_num)\n",
    "\n",
    "    # submit search, wait for load\n",
    "    firefox.find_element_by_name(\"marketSearch\").submit()\n",
    "    WebDriverWait(firefox, 15).until(\n",
    "        EC.url_changes(\"https://wireless2.fcc.gov/UlsApp/UlsSearch/searchMarket.jsp\"))\n",
    "    WebDriverWait(firefox, 15).until(\n",
    "        lambda _: firefox.execute_script(\"return document.readyState\") == \"complete\")\n",
    "\n",
    "    # scrape testhtml soup\n",
    "    testHTML = firefox.execute_script(\"return document.body.innerHTML\")\n",
    "\n",
    "    with open(\"test-search.html\", \"w\") as f:\n",
    "        f.write(testHTML)\n",
    "    \n",
    "    firefox.quit()"
   ]
  },
  {
   "cell_type": "code",
   "execution_count": 150,
   "metadata": {},
   "outputs": [],
   "source": [
    "# making the soup, finding the results table\n",
    "with open(\"test-search.html\", \"r\") as f:\n",
    "    testHTML = f.read()\n",
    "\n",
    "soup = BeautifulSoup(testHTML, \"lxml\")\n",
    "table_page = soup.find(\"table\", {\"summary\": \"License search results\"})"
   ]
  },
  {
   "cell_type": "code",
   "execution_count": 168,
   "metadata": {},
   "outputs": [
    {
     "name": "stdout",
     "output_type": "stream",
     "text": [
      "['Call Sign/Lease ID', 'Name', 'FRN', 'Radio Service', 'Status', 'Expiration Date']\n"
     ]
    }
   ],
   "source": [
    "# finding search col names\n",
    "first_row_cols = table_page.find_all(\"tr\")[0].find_all(\"th\")\n",
    "search_cols = []\n",
    "for i in range(0, len(first_row_cols)):\n",
    "    cell_data = first_row_cols[i].get_text().strip()\n",
    "    search_cols.append(cell_data)\n",
    "print(search_cols)"
   ]
  },
  {
   "cell_type": "code",
   "execution_count": 169,
   "metadata": {},
   "outputs": [],
   "source": [
    "# defining extracted table column names\n",
    "col_names = ['Market Number', 'Call Sign/Lease ID', 'FRN', 'Radio Service', 'Status', 'Expiration Date']"
   ]
  },
  {
   "cell_type": "markdown",
   "metadata": {},
   "source": [
    "## Define functions for scraping individual CMA"
   ]
  },
  {
   "cell_type": "markdown",
   "metadata": {},
   "source": [
    "* https://www.crummy.com/software/BeautifulSoup/bs3/documentation.html#arg-attrs\n",
    "* https://stackoverflow.com/questions/4768941/how-to-break-a-line-of-chained-methods-in-python"
   ]
  },
  {
   "cell_type": "code",
   "execution_count": 171,
   "metadata": {},
   "outputs": [],
   "source": [
    "def extract_table_data(innerHTML):\n",
    "    '''\n",
    "    Extracts the following details by row from innerHTML of results page:\n",
    "        * Market Code (CMA)\n",
    "        * Call Sign\n",
    "        * FRN\n",
    "        * Radio Service\n",
    "        * Status\n",
    "        * Expiration Date\n",
    "    Returns as list of rows (as list) without col_names\n",
    "    '''\n",
    "    \n",
    "    \n",
    "    # Extract search data from innerHTML soup\n",
    "    soup = BeautifulSoup(innerHTML, \"lxml\")\n",
    "    CMA = extract_mkt_code(soup)\n",
    "    \n",
    "    # extract search results as list of rows\n",
    "    rows = (\n",
    "        soup.find(\"table\", {\"summary\": \"License search results\"})\n",
    "        .find_all(\"tr\")[1:-1] # exclude header/footer name rows\n",
    "        )\n",
    "\n",
    "    \n",
    "    # extract results by row into table, attaching cma number\n",
    "    table_data = [] \n",
    "    \n",
    "    for row in rows:\n",
    "        \n",
    "        row_data = [CMA, ]          \n",
    "        cols = row.find_all(\"td\")\n",
    "        \n",
    "        # extract data from each cell in a row\n",
    "        for i in range(1, len(cols)):  # skip first index num column\n",
    "            cell_data = cols[i].get_text().strip()\n",
    "            row_data.append(cell_data)\n",
    "        \n",
    "        table_data.append(row_data)\n",
    "    \n",
    "    return(table_data)"
   ]
  },
  {
   "cell_type": "code",
   "execution_count": 170,
   "metadata": {},
   "outputs": [],
   "source": [
    "def extract_mkt_code(soup):\n",
    "    '''\n",
    "    Extracts the market code (CMA) from market search results page\n",
    "    '''\n",
    "    \n",
    "    # tag attributes for element containing \"Market Code = \" \n",
    "    mkt_code_attrs = {\"align\" : \"left\", \"class\" : \"cell-pri-light\", \"valign\" : \"bottom\"}\n",
    "    \n",
    "    # extract mkt code as text\n",
    "    mkt_code = (\n",
    "        soup.find_all(attrs=mkt_code_attrs, limit=1)[0]\n",
    "        .find_all(\"b\")[0]\n",
    "        .get_text()\n",
    "    )\n",
    "    \n",
    "    return mkt_code"
   ]
  },
  {
   "cell_type": "code",
   "execution_count": 172,
   "metadata": {},
   "outputs": [
    {
     "data": {
      "text/plain": [
       "[['CMA001',\n",
       "  'KNKA206',\n",
       "  'New York SMSA Limited Partnership',\n",
       "  '0003473220',\n",
       "  'CL',\n",
       "  'Active',\n",
       "  '10/01/2024'],\n",
       " ['CMA001',\n",
       "  'KNKA310',\n",
       "  'NEW CINGULAR WIRELESS PCS, LLC',\n",
       "  '0003291192',\n",
       "  'CL',\n",
       "  'Active',\n",
       "  '10/01/2025'],\n",
       " ['CMA001',\n",
       "  'L000009970',\n",
       "  'T-Mobile License LLC',\n",
       "  '0001565449',\n",
       "  'AW',\n",
       "  'Canceled',\n",
       "  '02/28/2013'],\n",
       " ['CMA001',\n",
       "  'WPWU948',\n",
       "  'New Cingular Wireless PCS, LLC',\n",
       "  '0003291192',\n",
       "  'WZ',\n",
       "  'Active',\n",
       "  '06/13/2019'],\n",
       " ['CMA001',\n",
       "  'WQGB263',\n",
       "  'Cellco Partnership',\n",
       "  '0003290673',\n",
       "  'AW',\n",
       "  'Active',\n",
       "  '11/29/2021'],\n",
       " ['CMA001',\n",
       "  'WQJU424',\n",
       "  'New Cingular Wireless PCS, LLC',\n",
       "  '0003291192',\n",
       "  'WY',\n",
       "  'Active',\n",
       "  '06/13/2019'],\n",
       " ['CMA001',\n",
       "  'WQWQ745',\n",
       "  'Northstar Wireless, LLC',\n",
       "  '0023917453',\n",
       "  'AT',\n",
       "  'Active',\n",
       "  '10/27/2027']]"
      ]
     },
     "execution_count": 172,
     "metadata": {},
     "output_type": "execute_result"
    }
   ],
   "source": [
    "extract_table_data(innerHTML)"
   ]
  },
  {
   "cell_type": "code",
   "execution_count": 173,
   "metadata": {},
   "outputs": [],
   "source": [
    "def scrape_table_for_cma(mkt_code, without_browser=False):\n",
    "    '''\n",
    "    Scrapes the FCC License Search database for a given Cellular Market Area (mkt_code)\n",
    "    Returns list of rows (as list) without col_names:\n",
    "        * Market Code (CMA)\n",
    "        * Call Sign\n",
    "        * FRN\n",
    "        * Radio Service\n",
    "        * Status\n",
    "        * Expiration Date\n",
    "    '''\n",
    "\n",
    "    tick = time.time()\n",
    "    print(\"LOG[INFO]: START %s \" % mkt_code)\n",
    "\n",
    "          \n",
    "    # driver config - start in private\n",
    "    firefox_profile = webdriver.FirefoxProfile()\n",
    "    firefox_profile.set_preference(\"browser.privatebrowsing.autostart\", True)\n",
    "    \n",
    "    # (optional) don't open up browser\n",
    "    firefox_options = Options()\n",
    "    if without_browser:\n",
    "        firefox_options.add_argument(\"--headless\")\n",
    "\n",
    "    # direct webdriver to search page\n",
    "    search_url = \"https://wireless2.fcc.gov/UlsApp/UlsSearch/searchMarket.jsp\"\n",
    "    \n",
    "    firefox = webdriver.Firefox(options=firefox_options, executable_path=\"./geckodriver\")\n",
    "    firefox.get(search_url)\n",
    "\n",
    "    # specify the market type we want to search for\n",
    "    in_markettype = Select(firefox.find_element_by_id(\"marketType\"))\n",
    "    in_markettype.select_by_value(\"CMA\")\n",
    "\n",
    "    # specify the market we want to search for\n",
    "    in_mkt = Select(firefox.find_element_by_id(\"ulsMarket\"))\n",
    "    in_mkt.deselect_by_visible_text(\"All\")\n",
    "    in_mkt.select_by_value(mkt_code)\n",
    "        \n",
    "    # submit search, wait for load\n",
    "    firefox.find_element_by_name(\"marketSearch\").submit()\n",
    "\n",
    "    WebDriverWait(firefox, 15).until(EC.url_changes(search_url))\n",
    "    WebDriverWait(firefox, 15).until(\n",
    "        lambda _: firefox.execute_script(\"return document.readyState\") == \"complete\"\n",
    "        )\n",
    "    \n",
    "    # scrape innerHTML\n",
    "    innerHTML = firefox.execute_script(\"return document.body.innerHTML\")\n",
    "    firefox.quit()\n",
    "    \n",
    "    # extract table data \n",
    "    table_data = []\n",
    "\n",
    "    table_data += extract_table_data(innerHTML)\n",
    "        \n",
    "    tock = time.time()\n",
    "    print(\"LOG[INFO]: END %s (%2f seconds)\" % (mkt_code, tock - tick))\n",
    "    \n",
    "    return table_data"
   ]
  },
  {
   "cell_type": "code",
   "execution_count": 166,
   "metadata": {},
   "outputs": [
    {
     "name": "stdout",
     "output_type": "stream",
     "text": [
      "LOG[INFO]: START CMA001 \n",
      "LOG[INFO]: END CMA001 (30.416177 seconds)\n"
     ]
    },
    {
     "data": {
      "text/plain": [
       "[['CMA001',\n",
       "  'KNKA206',\n",
       "  'New York SMSA Limited Partnership',\n",
       "  '0003473220',\n",
       "  'CL',\n",
       "  'Active',\n",
       "  '10/01/2024'],\n",
       " ['CMA001',\n",
       "  'KNKA310',\n",
       "  'NEW CINGULAR WIRELESS PCS, LLC',\n",
       "  '0003291192',\n",
       "  'CL',\n",
       "  'Active',\n",
       "  '10/01/2025'],\n",
       " ['CMA001',\n",
       "  'L000009970',\n",
       "  'T-Mobile License LLC',\n",
       "  '0001565449',\n",
       "  'AW',\n",
       "  'Canceled',\n",
       "  '02/28/2013'],\n",
       " ['CMA001',\n",
       "  'WPWU948',\n",
       "  'New Cingular Wireless PCS, LLC',\n",
       "  '0003291192',\n",
       "  'WZ',\n",
       "  'Active',\n",
       "  '06/13/2019'],\n",
       " ['CMA001',\n",
       "  'WQGB263',\n",
       "  'Cellco Partnership',\n",
       "  '0003290673',\n",
       "  'AW',\n",
       "  'Active',\n",
       "  '11/29/2021'],\n",
       " ['CMA001',\n",
       "  'WQJU424',\n",
       "  'New Cingular Wireless PCS, LLC',\n",
       "  '0003291192',\n",
       "  'WY',\n",
       "  'Active',\n",
       "  '06/13/2019'],\n",
       " ['CMA001',\n",
       "  'WQWQ745',\n",
       "  'Northstar Wireless, LLC',\n",
       "  '0023917453',\n",
       "  'AT',\n",
       "  'Active',\n",
       "  '10/27/2027']]"
      ]
     },
     "execution_count": 166,
     "metadata": {},
     "output_type": "execute_result"
    }
   ],
   "source": [
    "scrape_table_for_cma(\"CMA001\", False)"
   ]
  },
  {
   "cell_type": "markdown",
   "metadata": {},
   "source": [
    "## Scraping results tables for all CMA's"
   ]
  },
  {
   "cell_type": "markdown",
   "metadata": {},
   "source": [
    "* https://stackoverflow.com/questions/2050637/appending-the-same-string-to-a-list-of-strings-in-python\n",
    "* https://www.csestack.org/python-padding-number-string/\n",
    "* https://stackoverflow.com/questions/18265935/python-create-list-with-numbers-between-2-values"
   ]
  },
  {
   "cell_type": "code",
   "execution_count": 69,
   "metadata": {},
   "outputs": [],
   "source": [
    "cma_count = 734\n",
    "cma_range = list(range(1,cma_count + 1))    # 734 CMA's in total\n",
    "cma_search_list = ['CMA' + str(s).zfill(3) for s in CMA_range]\n",
    "assert(len(cma_search_list) == 734)"
   ]
  },
  {
   "cell_type": "code",
   "execution_count": null,
   "metadata": {},
   "outputs": [],
   "source": [
    "def get_mktsearch_results(mkt_num)\n",
    "    # driver config - start in private\n",
    "    firefox_profile = webdriver.FirefoxProfile()\n",
    "    firefox_profile.set_preference(\"browser.privatebrowsing.autostart\", True)\n",
    "    \n",
    "    # (optional) don't open up browser\n",
    "    firefox_options = Options()\n",
    "    if without_browser:\n",
    "        firefox_options.add_argument(\"--headless\")\n",
    "\n",
    "    # spin up the webdriver\n",
    "    firefox = webdriver.Firefox(options=firefox_options, executable_path=\"./geckodriver\")\n",
    "    firefox.get(\"https://wireless2.fcc.gov/UlsApp/UlsSearch/searchMarket.jsp\")\n",
    "\n",
    "    # specify the market type we want to search for\n",
    "    in_markettype = Select(firefox.find_element_by_id(\"marketType\"))\n",
    "    in_markettype.select_by_value(\"CMA\")\n",
    "\n",
    "    # specify the market we want to search for\n",
    "    in_mkt = Select(firefox.find_element_by_id(\"ulsMarket\"))\n",
    "    in_mkt.deselect_by_visible_text(\"All\")\n",
    "    in_mkt.select_by_value(mkt_num)\n",
    "\n",
    "    # submit search, wait for load\n",
    "    firefox.find_element_by_name(\"marketSearch\").submit()"
   ]
  },
  {
   "cell_type": "code",
   "execution_count": 4,
   "metadata": {},
   "outputs": [
    {
     "ename": "NameError",
     "evalue": "name 'firefox' is not defined",
     "output_type": "error",
     "traceback": [
      "\u001b[0;31m---------------------------------------------------------------------------\u001b[0m",
      "\u001b[0;31mNameError\u001b[0m                                 Traceback (most recent call last)",
      "\u001b[0;32m<ipython-input-4-7661befe927d>\u001b[0m in \u001b[0;36m<module>\u001b[0;34m()\u001b[0m\n\u001b[1;32m      1\u001b[0m \u001b[0mscrape_table_for_cma\u001b[0m\u001b[0;34m(\u001b[0m\u001b[0;34m\"CMA001\"\u001b[0m\u001b[0;34m)\u001b[0m\u001b[0;34m\u001b[0m\u001b[0m\n\u001b[0;32m----> 2\u001b[0;31m \u001b[0mfirefox\u001b[0m\u001b[0;34m.\u001b[0m\u001b[0mquit\u001b[0m\u001b[0;34m(\u001b[0m\u001b[0;34m)\u001b[0m\u001b[0;34m\u001b[0m\u001b[0m\n\u001b[0m",
      "\u001b[0;31mNameError\u001b[0m: name 'firefox' is not defined"
     ]
    }
   ],
   "source": [
    "scrape_table_for_cma(\"CMA001\")\n",
    "firefox.quit()"
   ]
  },
  {
   "cell_type": "markdown",
   "metadata": {},
   "source": [
    "## Scrape the FCC tables for a list of call signs"
   ]
  },
  {
   "cell_type": "code",
   "execution_count": 12,
   "metadata": {},
   "outputs": [],
   "source": [
    "# read in the list of FCC callsigns\n",
    "call_signs = [\"KNKN555\", \"KNKN556\"]"
   ]
  },
  {
   "cell_type": "code",
   "execution_count": 13,
   "metadata": {},
   "outputs": [
    {
     "ename": "NameError",
     "evalue": "name 'scrape_table_for_call_sign' is not defined",
     "output_type": "error",
     "traceback": [
      "\u001b[0;31m---------------------------------------------------------------------------\u001b[0m",
      "\u001b[0;31mNameError\u001b[0m                                 Traceback (most recent call last)",
      "\u001b[0;32m<ipython-input-13-2f40798230cb>\u001b[0m in \u001b[0;36m<module>\u001b[0;34m()\u001b[0m\n\u001b[1;32m      2\u001b[0m \u001b[0mscraped_data\u001b[0m \u001b[0;34m=\u001b[0m \u001b[0;34m[\u001b[0m\u001b[0;34m]\u001b[0m\u001b[0;34m\u001b[0m\u001b[0m\n\u001b[1;32m      3\u001b[0m \u001b[0;32mfor\u001b[0m \u001b[0mcs\u001b[0m \u001b[0;32min\u001b[0m \u001b[0mcall_signs\u001b[0m\u001b[0;34m:\u001b[0m\u001b[0;34m\u001b[0m\u001b[0m\n\u001b[0;32m----> 4\u001b[0;31m     \u001b[0mscraped_data\u001b[0m\u001b[0;34m.\u001b[0m\u001b[0mappend\u001b[0m\u001b[0;34m(\u001b[0m\u001b[0mscrape_table_for_call_sign\u001b[0m\u001b[0;34m(\u001b[0m\u001b[0mcs\u001b[0m\u001b[0;34m,\u001b[0m \u001b[0mwithout_browser\u001b[0m\u001b[0;34m=\u001b[0m\u001b[0;32mFalse\u001b[0m\u001b[0;34m)\u001b[0m\u001b[0;34m)\u001b[0m\u001b[0;34m\u001b[0m\u001b[0m\n\u001b[0m",
      "\u001b[0;31mNameError\u001b[0m: name 'scrape_table_for_call_sign' is not defined"
     ]
    }
   ],
   "source": [
    "# collects the scraped data for *all* the call signs into a single python list\n",
    "scraped_data = []\n",
    "for cs in call_signs:\n",
    "    scraped_data.append(scrape_table_for_call_sign(cs, without_browser=False))"
   ]
  },
  {
   "cell_type": "code",
   "execution_count": 18,
   "metadata": {},
   "outputs": [],
   "source": [
    "# sanity check over data"
   ]
  },
  {
   "cell_type": "code",
   "execution_count": 54,
   "metadata": {},
   "outputs": [
    {
     "name": "stdout",
     "output_type": "stream",
     "text": [
      "['0000083337', '', 'AT&T Wireless Services of Florida, Inc.', '', 'Assignment of Authorization', '', 'AL', '02/18/2000', 'Consummated']\n",
      "['0000214527', 'KNKN555', 'AT&T Wireless Services of Florida, Inc.', '', 'Renewal/Modification', '', 'CL', '09/05/2000', 'Granted']\n",
      "['0000287045', 'KNKN555', 'AT&T Wireless Services of Florida, Inc.', '', 'Duplicate License', '', 'CL', '12/08/2000', 'Granted']\n",
      "['0000326671', 'KNKN555', 'AT&T Wireless Services of Florida, Inc.', '', 'Duplicate License', '', 'CL', '01/16/2001', 'Granted']\n",
      "['0000446751', 'KNKN555', 'AT&T Wireless Services of Florida, Inc.', '', 'Administrative Update', '', 'CL', '05/02/2001', 'Granted']\n",
      "['0000545823', '', 'AT&T Wireless Services, Inc.', '0004122032', 'Transfer of Control', '', 'AL', '08/01/2001', 'Inactive']\n",
      "['0000545823', '', 'AT&T Wireless Services, Inc.', '0004122032', 'Amendment', '(Transfer of Control)', 'AL', '12/20/2001', 'Granted']\n",
      "['0000949139', 'KNKN555', 'AT&T Wireless Services of Florida, Inc.', '', 'Modification', '', 'CL', '07/02/2002', 'Inactive']\n",
      "['0000949139', 'KNKN555', 'AT&T Wireless Services of Florida, Inc.', '', 'Amendment', '(Modification)', 'CL', '07/18/2002', 'Inactive']\n",
      "['0000949139', 'KNKN555', 'AT&T Wireless Services of Florida, Inc.', '', 'Amendment', '(Modification)', 'CL', '11/14/2002', 'Granted']\n"
     ]
    }
   ],
   "source": [
    "# print first 10 rows\n",
    "for row in scraped_data[:10]:\n",
    "    print(row)"
   ]
  }
 ],
 "metadata": {
  "kernelspec": {
   "display_name": "Python 3",
   "language": "python",
   "name": "python3"
  },
  "language_info": {
   "codemirror_mode": {
    "name": "ipython",
    "version": 3
   },
   "file_extension": ".py",
   "mimetype": "text/x-python",
   "name": "python",
   "nbconvert_exporter": "python",
   "pygments_lexer": "ipython3",
   "version": "3.6.5"
  }
 },
 "nbformat": 4,
 "nbformat_minor": 2
}
