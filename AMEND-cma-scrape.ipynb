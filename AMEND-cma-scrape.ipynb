{
 "cells": [
  {
   "cell_type": "markdown",
   "metadata": {},
   "source": [
    "# FCC CMA Scraping (AMEND)"
   ]
  },
  {
   "cell_type": "markdown",
   "metadata": {},
   "source": [
    "## NOTE: This is a re-run of scraping functions for CMA's with results equal to 10\n",
    "* see scrape-callsigns_by_cma.ipynb for initial searchs"
   ]
  },
  {
   "cell_type": "markdown",
   "metadata": {},
   "source": [
    "## Set up selenium webdriver with Firefox\n",
    "* Download Firefox driver [geckodriver](https://github.com/mozilla/geckodriver/releases) for selenium\n",
    "* Move the driver executable into the same directory as this notebook (or update the path to the executable in `scrape_table_for_call_sign`)\n",
    "* `pip install selenium`\n",
    "\n",
    "-- see scrape-apps_by_callsign.ipynb for more details"
   ]
  },
  {
   "cell_type": "code",
   "execution_count": 39,
   "metadata": {},
   "outputs": [],
   "source": [
    "from bs4 import BeautifulSoup\n",
    "import time"
   ]
  },
  {
   "cell_type": "code",
   "execution_count": 40,
   "metadata": {},
   "outputs": [],
   "source": [
    "from selenium import webdriver\n",
    "from selenium.webdriver.common.keys import Keys\n",
    "from selenium.webdriver.firefox.options import Options  \n",
    "from selenium.webdriver.support.ui import Select\n",
    "from selenium.webdriver.support.ui import WebDriverWait\n",
    "from selenium.webdriver.common.by import By\n",
    "from selenium.webdriver.support import expected_conditions as EC\n",
    "from selenium.common.exceptions import NoSuchElementException        "
   ]
  },
  {
   "cell_type": "markdown",
   "metadata": {},
   "source": [
    "## Define functions for scraping individual CMA"
   ]
  },
  {
   "cell_type": "code",
   "execution_count": 3,
   "metadata": {},
   "outputs": [],
   "source": [
    "def extract_mkt_code(soup):\n",
    "    '''\n",
    "    Extracts the market code (CMA) from market search results page\n",
    "    '''\n",
    "    \n",
    "    # tag attributes for element containing \"Market Code = \" \n",
    "    mkt_code_attrs = {\"align\" : \"left\", \"class\" : \"cell-pri-light\", \"valign\" : \"bottom\"}\n",
    "    \n",
    "    # extract mkt code as text\n",
    "    mkt_code = (\n",
    "        soup.find_all(attrs=mkt_code_attrs, limit=1)[0]\n",
    "        .find_all(\"b\")[0]\n",
    "        .get_text()\n",
    "    )\n",
    "    \n",
    "    return mkt_code"
   ]
  },
  {
   "cell_type": "code",
   "execution_count": 4,
   "metadata": {},
   "outputs": [],
   "source": [
    "def extract_table_data(innerHTML):\n",
    "    '''\n",
    "    Extracts the following details by row from innerHTML of results page:\n",
    "        * Market Code (CMA)\n",
    "        * Call Sign/Lease ID\n",
    "        * FRN Name\n",
    "        * FRN Number\n",
    "        * Radio Service\n",
    "        * Status\n",
    "        * Expiration Date\n",
    "    Returns as list of rows (as list) without col_names\n",
    "    '''\n",
    "    \n",
    "    \n",
    "    # Extract search data from innerHTML soup\n",
    "    soup = BeautifulSoup(innerHTML, \"lxml\")\n",
    "    CMA = extract_mkt_code(soup)\n",
    "    \n",
    "    # extract search results as list of rows\n",
    "    rows = (\n",
    "        soup.find(\"table\", {\"summary\": \"License search results\"})\n",
    "        .find_all(\"tr\")[1:-1] # exclude header/footer name rows\n",
    "        )\n",
    "\n",
    "    \n",
    "    # extract results by row into table, attaching cma number\n",
    "    table_data = [] \n",
    "    \n",
    "    for row in rows:\n",
    "        \n",
    "        row_data = [CMA, ]          \n",
    "        cols = row.find_all(\"td\")\n",
    "        \n",
    "        # extract data from each cell in a row\n",
    "        for i in range(1, len(cols)):  # skip first index num column\n",
    "            cell_data = cols[i].get_text().strip()\n",
    "            row_data.append(cell_data)\n",
    "        \n",
    "        table_data.append(row_data)\n",
    "    \n",
    "    return(table_data)"
   ]
  },
  {
   "cell_type": "code",
   "execution_count": 5,
   "metadata": {},
   "outputs": [],
   "source": [
    "def scrape_table_for_cma(mkt_code, without_browser=False):\n",
    "    '''\n",
    "    Scrapes the FCC License Search database for a given Cellular Market Area (mkt_code)\n",
    "    Returns list of rows (as list) without col_names:\n",
    "        * Market Code (CMA)\n",
    "        * Call Sign/Lease ID\n",
    "        * FRN Name\n",
    "        * FRN Number\n",
    "        * Radio Service\n",
    "        * Status\n",
    "        * Expiration Date\n",
    "    '''\n",
    "\n",
    "    tick = time.time()\n",
    "    print(\"LOG[INFO]: START SCRAPE %s \" % mkt_code)\n",
    "\n",
    "          \n",
    "    # driver config - start in private\n",
    "    firefox_profile = webdriver.FirefoxProfile()\n",
    "    firefox_profile.set_preference(\"browser.privatebrowsing.autostart\", True)\n",
    "    \n",
    "    # (optional) don't open up browser\n",
    "    firefox_options = Options()\n",
    "    if without_browser:\n",
    "        firefox_options.add_argument(\"--headless\")\n",
    "\n",
    "    # direct webdriver to search page\n",
    "    search_url = \"https://wireless2.fcc.gov/UlsApp/UlsSearch/searchMarket.jsp\"\n",
    "    \n",
    "    firefox = webdriver.Firefox(options=firefox_options, executable_path=\"./geckodriver\")\n",
    "    firefox.get(search_url)\n",
    "\n",
    "    # specify the market type we want to search for\n",
    "    in_markettype = Select(firefox.find_element_by_id(\"marketType\"))\n",
    "    in_markettype.select_by_value(\"CMA\")\n",
    "\n",
    "    # specify the market we want to search for\n",
    "    in_mkt = Select(firefox.find_element_by_id(\"ulsMarket\"))\n",
    "    in_mkt.deselect_by_visible_text(\"All\")\n",
    "    in_mkt.select_by_value(mkt_code)\n",
    "    \n",
    "    # set pagination to 100 (maximum)\n",
    "    in_pagination = Select(firefox.find_element_by_name(\"fiRowsPerPage\"))\n",
    "    in_pagination.select_by_value(\"100\")\n",
    "        \n",
    "    # submit search, wait for load\n",
    "    firefox.find_element_by_name(\"marketSearch\").submit()\n",
    "\n",
    "    WebDriverWait(firefox, 15).until(EC.url_changes(search_url))\n",
    "    WebDriverWait(firefox, 15).until(\n",
    "        lambda _: firefox.execute_script(\"return document.readyState\") == \"complete\"\n",
    "        )\n",
    "    \n",
    "    # scrape innerHTML\n",
    "    innerHTML = firefox.execute_script(\"return document.body.innerHTML\")\n",
    "    #firefox.quit()\n",
    "    \n",
    "    # extract table data \n",
    "    table_data = []\n",
    "\n",
    "    table_data += extract_table_data(innerHTML)\n",
    "        \n",
    "    tock = time.time()\n",
    "    print(\"LOG[INFO]: END SCRAPE %s (%2f seconds)\" % (mkt_code, tock - tick))\n",
    "    \n",
    "    return table_data"
   ]
  },
  {
   "cell_type": "code",
   "execution_count": 6,
   "metadata": {},
   "outputs": [
    {
     "name": "stdout",
     "output_type": "stream",
     "text": [
      "LOG[INFO]: START SCRAPE CMA002 \n"
     ]
    },
    {
     "ename": "AttributeError",
     "evalue": "'NoneType' object has no attribute 'find_all'",
     "output_type": "error",
     "traceback": [
      "\u001b[0;31m---------------------------------------------------------------------------\u001b[0m",
      "\u001b[0;31mAttributeError\u001b[0m                            Traceback (most recent call last)",
      "\u001b[0;32m<ipython-input-6-d1c03a2eca98>\u001b[0m in \u001b[0;36m<module>\u001b[0;34m()\u001b[0m\n\u001b[0;32m----> 1\u001b[0;31m \u001b[0mscrape_table_for_cma\u001b[0m\u001b[0;34m(\u001b[0m\u001b[0;34m\"CMA002\"\u001b[0m\u001b[0;34m,\u001b[0m \u001b[0;32mTrue\u001b[0m\u001b[0;34m)\u001b[0m\u001b[0;34m\u001b[0m\u001b[0m\n\u001b[0m",
      "\u001b[0;32m<ipython-input-5-72793b26cdd3>\u001b[0m in \u001b[0;36mscrape_table_for_cma\u001b[0;34m(mkt_code, without_browser)\u001b[0m\n\u001b[1;32m     59\u001b[0m     \u001b[0mtable_data\u001b[0m \u001b[0;34m=\u001b[0m \u001b[0;34m[\u001b[0m\u001b[0;34m]\u001b[0m\u001b[0;34m\u001b[0m\u001b[0m\n\u001b[1;32m     60\u001b[0m \u001b[0;34m\u001b[0m\u001b[0m\n\u001b[0;32m---> 61\u001b[0;31m     \u001b[0mtable_data\u001b[0m \u001b[0;34m+=\u001b[0m \u001b[0mextract_table_data\u001b[0m\u001b[0;34m(\u001b[0m\u001b[0minnerHTML\u001b[0m\u001b[0;34m)\u001b[0m\u001b[0;34m\u001b[0m\u001b[0m\n\u001b[0m\u001b[1;32m     62\u001b[0m \u001b[0;34m\u001b[0m\u001b[0m\n\u001b[1;32m     63\u001b[0m     \u001b[0mtock\u001b[0m \u001b[0;34m=\u001b[0m \u001b[0mtime\u001b[0m\u001b[0;34m.\u001b[0m\u001b[0mtime\u001b[0m\u001b[0;34m(\u001b[0m\u001b[0;34m)\u001b[0m\u001b[0;34m\u001b[0m\u001b[0m\n",
      "\u001b[0;32m<ipython-input-4-0bc8e5518602>\u001b[0m in \u001b[0;36mextract_table_data\u001b[0;34m(innerHTML)\u001b[0m\n\u001b[1;32m     19\u001b[0m     \u001b[0;31m# extract search results as list of rows\u001b[0m\u001b[0;34m\u001b[0m\u001b[0;34m\u001b[0m\u001b[0m\n\u001b[1;32m     20\u001b[0m     rows = (\n\u001b[0;32m---> 21\u001b[0;31m         \u001b[0msoup\u001b[0m\u001b[0;34m.\u001b[0m\u001b[0mfind\u001b[0m\u001b[0;34m(\u001b[0m\u001b[0;34m\"table\"\u001b[0m\u001b[0;34m,\u001b[0m \u001b[0;34m{\u001b[0m\u001b[0;34m\"summary\"\u001b[0m\u001b[0;34m:\u001b[0m \u001b[0;34m\"License search results\"\u001b[0m\u001b[0;34m}\u001b[0m\u001b[0;34m)\u001b[0m\u001b[0;34m\u001b[0m\u001b[0m\n\u001b[0m\u001b[1;32m     22\u001b[0m         \u001b[0;34m.\u001b[0m\u001b[0mfind_all\u001b[0m\u001b[0;34m(\u001b[0m\u001b[0;34m\"tr\"\u001b[0m\u001b[0;34m)\u001b[0m\u001b[0;34m[\u001b[0m\u001b[0;36m1\u001b[0m\u001b[0;34m:\u001b[0m\u001b[0;34m-\u001b[0m\u001b[0;36m1\u001b[0m\u001b[0;34m]\u001b[0m \u001b[0;31m# exclude header/footer name rows\u001b[0m\u001b[0;34m\u001b[0m\u001b[0m\n\u001b[1;32m     23\u001b[0m         )\n",
      "\u001b[0;31mAttributeError\u001b[0m: 'NoneType' object has no attribute 'find_all'"
     ]
    }
   ],
   "source": [
    "scrape_table_for_cma(\"CMA002\", True)"
   ]
  },
  {
   "cell_type": "markdown",
   "metadata": {},
   "source": [
    "## Define functions for searching for list of CMAs"
   ]
  },
  {
   "cell_type": "code",
   "execution_count": 23,
   "metadata": {},
   "outputs": [],
   "source": [
    "import random"
   ]
  },
  {
   "cell_type": "code",
   "execution_count": 33,
   "metadata": {},
   "outputs": [],
   "source": [
    "def loop_scrape_table_for_cma(list_cma):\n",
    "    \n",
    "    # start search & tries counter\n",
    "    i = 0\n",
    "    tries = 1\n",
    "    \n",
    "    # log start of loop\n",
    "    tick = time.time()\n",
    "    print(\n",
    "        \"LOG[INFO]: START TIME is %s\\n\"\n",
    "        \"LOG[INFO]: START LOOP from %s\"\n",
    "        % (time.strftime(\"%I:%M %p\"), list_cma[i])\n",
    "    )\n",
    "    \n",
    "    # begin search & scrape loop over mkt_codes\n",
    "    loop_data = []\n",
    "    \n",
    "    # Attempt to scrape all cma's in list_cma up to 3 times\n",
    "    while (i < len(list_cma) and tries <=3):\n",
    "        # Succcessful iteration\n",
    "        try:\n",
    "            print(\"LOG[INFO]: Attempt\", tries)\n",
    "            # search for i-th CMA\n",
    "            mkt_code = list_cma[i]\n",
    "            loop_data.append(\n",
    "                scrape_table_for_cma(mkt_code, True)\n",
    "            )\n",
    "            i += 1\n",
    "            # wait random time before next query\n",
    "            wait_query = random.randint(1,60)\n",
    "            print(\"LOG[INFO]: WAIT %2f seconds before next query\" % wait_query)\n",
    "            time.sleep(wait_query)\n",
    "    \n",
    "        # Interrupted iteration logs time & error, and waits for retry\n",
    "        except Exception as e:\n",
    "            print(\n",
    "                \"LOG[ERROR]: %s\\n\"\n",
    "                \"LOG[INFO]: LOOP INTERRUPTED at %s\\n\"\n",
    "                % (e, time.strftime(\"%I:%M %p\"))\n",
    "            )\n",
    "            tries += 1\n",
    "            wait_retry = random.randint(200,500)\n",
    "            print(\"LOG[INFO]: WAIT %2f minutes to retry\" % (wait_retry/60))\n",
    "            time.sleep(wait_retry)\n",
    "            pass\n",
    "       \n",
    "    # log end of while loop\n",
    "    tock = time.time()\n",
    "    print(\n",
    "        \"LOG[INFO]: END LOOP at %s with %s ATTEMPTS\\n\"\n",
    "        \"LOG[INFO]: END TIME is %s (TOTAL: %2f minutes)\"\n",
    "        % (list_cma[(i)], (tries-1), time.strftime(\"%I:%M %p\"), ((tock - tick)/60))\n",
    "    )\n",
    "    \n",
    "    return (loop_data)\n"
   ]
  },
  {
   "cell_type": "markdown",
   "metadata": {},
   "source": [
    "## Scraping results tables for list of CMA's"
   ]
  },
  {
   "cell_type": "markdown",
   "metadata": {},
   "source": [
    "### Creating search lists"
   ]
  },
  {
   "cell_type": "code",
   "execution_count": 34,
   "metadata": {},
   "outputs": [],
   "source": [
    "import pandas as pd"
   ]
  },
  {
   "cell_type": "code",
   "execution_count": 42,
   "metadata": {},
   "outputs": [
    {
     "data": {
      "text/plain": [
       "['CMA002',\n",
       " 'CMA014',\n",
       " 'CMA015',\n",
       " 'CMA024',\n",
       " 'CMA026',\n",
       " 'CMA028',\n",
       " 'CMA029',\n",
       " 'CMA039',\n",
       " 'CMA041',\n",
       " 'CMA045',\n",
       " 'CMA053',\n",
       " 'CMA071',\n",
       " 'CMA074',\n",
       " 'CMA077',\n",
       " 'CMA081',\n",
       " 'CMA086',\n",
       " 'CMA089',\n",
       " 'CMA090',\n",
       " 'CMA097',\n",
       " 'CMA098',\n",
       " 'CMA101',\n",
       " 'CMA106',\n",
       " 'CMA113',\n",
       " 'CMA127',\n",
       " 'CMA128',\n",
       " 'CMA141',\n",
       " 'CMA152',\n",
       " 'CMA161',\n",
       " 'CMA162',\n",
       " 'CMA165',\n",
       " 'CMA166',\n",
       " 'CMA168',\n",
       " 'CMA171',\n",
       " 'CMA174',\n",
       " 'CMA176',\n",
       " 'CMA181',\n",
       " 'CMA185',\n",
       " 'CMA187',\n",
       " 'CMA188',\n",
       " 'CMA217',\n",
       " 'CMA221',\n",
       " 'CMA227',\n",
       " 'CMA234',\n",
       " 'CMA245',\n",
       " 'CMA246',\n",
       " 'CMA255',\n",
       " 'CMA264',\n",
       " 'CMA267',\n",
       " 'CMA268',\n",
       " 'CMA273',\n",
       " 'CMA274',\n",
       " 'CMA281',\n",
       " 'CMA283',\n",
       " 'CMA285',\n",
       " 'CMA286',\n",
       " 'CMA289',\n",
       " 'CMA290',\n",
       " 'CMA295',\n",
       " 'CMA297',\n",
       " 'CMA298',\n",
       " 'CMA299',\n",
       " 'CMA306',\n",
       " 'CMA307',\n",
       " 'CMA311',\n",
       " 'CMA313',\n",
       " 'CMA315',\n",
       " 'CMA316',\n",
       " 'CMA317',\n",
       " 'CMA318',\n",
       " 'CMA319',\n",
       " 'CMA320',\n",
       " 'CMA322',\n",
       " 'CMA323',\n",
       " 'CMA336',\n",
       " 'CMA337',\n",
       " 'CMA341',\n",
       " 'CMA342',\n",
       " 'CMA344',\n",
       " 'CMA348',\n",
       " 'CMA351',\n",
       " 'CMA352',\n",
       " 'CMA353',\n",
       " 'CMA354',\n",
       " 'CMA355',\n",
       " 'CMA356',\n",
       " 'CMA361',\n",
       " 'CMA362',\n",
       " 'CMA363',\n",
       " 'CMA367',\n",
       " 'CMA369',\n",
       " 'CMA374',\n",
       " 'CMA376',\n",
       " 'CMA378',\n",
       " 'CMA379',\n",
       " 'CMA380',\n",
       " 'CMA381',\n",
       " 'CMA383',\n",
       " 'CMA386',\n",
       " 'CMA388',\n",
       " 'CMA389',\n",
       " 'CMA390',\n",
       " 'CMA393',\n",
       " 'CMA394',\n",
       " 'CMA396',\n",
       " 'CMA397',\n",
       " 'CMA401',\n",
       " 'CMA402',\n",
       " 'CMA403',\n",
       " 'CMA407',\n",
       " 'CMA408',\n",
       " 'CMA412',\n",
       " 'CMA414',\n",
       " 'CMA417',\n",
       " 'CMA418',\n",
       " 'CMA419',\n",
       " 'CMA420',\n",
       " 'CMA421',\n",
       " 'CMA422',\n",
       " 'CMA423',\n",
       " 'CMA424',\n",
       " 'CMA425',\n",
       " 'CMA426',\n",
       " 'CMA427',\n",
       " 'CMA428',\n",
       " 'CMA429',\n",
       " 'CMA430',\n",
       " 'CMA431',\n",
       " 'CMA432',\n",
       " 'CMA433',\n",
       " 'CMA434',\n",
       " 'CMA440',\n",
       " 'CMA448',\n",
       " 'CMA450',\n",
       " 'CMA455',\n",
       " 'CMA456',\n",
       " 'CMA458',\n",
       " 'CMA459',\n",
       " 'CMA466',\n",
       " 'CMA483',\n",
       " 'CMA486',\n",
       " 'CMA487',\n",
       " 'CMA488',\n",
       " 'CMA489',\n",
       " 'CMA490',\n",
       " 'CMA491',\n",
       " 'CMA498',\n",
       " 'CMA503',\n",
       " 'CMA505',\n",
       " 'CMA523',\n",
       " 'CMA524',\n",
       " 'CMA525',\n",
       " 'CMA526',\n",
       " 'CMA528',\n",
       " 'CMA529',\n",
       " 'CMA530',\n",
       " 'CMA531',\n",
       " 'CMA532',\n",
       " 'CMA534',\n",
       " 'CMA538',\n",
       " 'CMA540',\n",
       " 'CMA541',\n",
       " 'CMA543',\n",
       " 'CMA544',\n",
       " 'CMA545',\n",
       " 'CMA546',\n",
       " 'CMA547',\n",
       " 'CMA548',\n",
       " 'CMA553',\n",
       " 'CMA554',\n",
       " 'CMA555',\n",
       " 'CMA557',\n",
       " 'CMA558',\n",
       " 'CMA566',\n",
       " 'CMA568',\n",
       " 'CMA569',\n",
       " 'CMA571',\n",
       " 'CMA572',\n",
       " 'CMA573',\n",
       " 'CMA575',\n",
       " 'CMA576',\n",
       " 'CMA577',\n",
       " 'CMA579',\n",
       " 'CMA580',\n",
       " 'CMA581',\n",
       " 'CMA582',\n",
       " 'CMA583',\n",
       " 'CMA584',\n",
       " 'CMA586',\n",
       " 'CMA589',\n",
       " 'CMA590',\n",
       " 'CMA598',\n",
       " 'CMA600',\n",
       " 'CMA607',\n",
       " 'CMA611',\n",
       " 'CMA625',\n",
       " 'CMA626',\n",
       " 'CMA631',\n",
       " 'CMA632',\n",
       " 'CMA634',\n",
       " 'CMA635',\n",
       " 'CMA636',\n",
       " 'CMA637',\n",
       " 'CMA638',\n",
       " 'CMA639',\n",
       " 'CMA640',\n",
       " 'CMA641',\n",
       " 'CMA642',\n",
       " 'CMA643',\n",
       " 'CMA653',\n",
       " 'CMA656',\n",
       " 'CMA658',\n",
       " 'CMA659',\n",
       " 'CMA660',\n",
       " 'CMA661',\n",
       " 'CMA663',\n",
       " 'CMA665',\n",
       " 'CMA666',\n",
       " 'CMA669',\n",
       " 'CMA670',\n",
       " 'CMA671',\n",
       " 'CMA673',\n",
       " 'CMA675',\n",
       " 'CMA676',\n",
       " 'CMA677',\n",
       " 'CMA678',\n",
       " 'CMA681',\n",
       " 'CMA709',\n",
       " 'CMA711',\n",
       " 'CMA712',\n",
       " 'CMA713',\n",
       " 'CMA714',\n",
       " 'CMA715',\n",
       " 'CMA716',\n",
       " 'CMA718',\n",
       " 'CMA719',\n",
       " 'CMA720',\n",
       " 'CMA721',\n",
       " 'CMA722']"
      ]
     },
     "execution_count": 42,
     "metadata": {},
     "output_type": "execute_result"
    }
   ],
   "source": [
    "# load previous search results\n",
    "cma_df = pd.read_csv(\"cma_df.csv\", dtype='object')\n",
    "\n",
    "# select for CMA with count >= 10, and return as list\n",
    "rows_per_cma = cma_df.groupby(['cma_no']).count()\n",
    "IS_gt_10 = (rows_per_cma['callsign_leaseID'] == 10)\n",
    "cma_gt_10 = rows_per_cma[IS_gt_10].reset_index()['cma_no']\n",
    "cma_gt_10_search = cma_gt_10.tolist()\n",
    "cma_gt_10_search"
   ]
  },
  {
   "cell_type": "code",
   "execution_count": 32,
   "metadata": {},
   "outputs": [
    {
     "name": "stdout",
     "output_type": "stream",
     "text": [
      "LOG[INFO]: START TIME is 06:51 PM\n",
      "LOG[INFO]: START LOOP from CMA002\n",
      "LOG[INFO]: Attempt 1\n",
      "LOG[INFO]: START SCRAPE CMA002 \n",
      "LOG[ERROR]: 'NoneType' object has no attribute 'find_all'\n",
      "LOG[INFO]: LOOP INTERRUPTED at 06:51 PM\n",
      "\n",
      "LOG[INFO]: WAIT 0.16666666666666666 minutes to retry\n",
      "LOG[INFO]: END LOOP at CMA002, 4 ATTEMPTS\n",
      "LOG[INFO]: END TIME is 06:51 PM (TOTAL: 0.563114 minutes)\n"
     ]
    },
    {
     "data": {
      "text/plain": [
       "[]"
      ]
     },
     "execution_count": 32,
     "metadata": {},
     "output_type": "execute_result"
    }
   ],
   "source": [
    "# test loop\n",
    "loop_scrape_table_for_cma([\"CMA002\"])"
   ]
  },
  {
   "cell_type": "markdown",
   "metadata": {},
   "source": [
    "## Filter list of Call Signs from cma_df\n",
    "\n",
    "* filter for col4: 'Radio Service' == 'CL'\n",
    "```python\n",
    "is_CL = cma_df['Radio Service'] == 'CL'\n",
    "callsign_CL = cma_df.loc[[is_CL], 1]\n",
    "```\n",
    "* "
   ]
  },
  {
   "cell_type": "code",
   "execution_count": null,
   "metadata": {},
   "outputs": [],
   "source": [
    "import pandas as pd"
   ]
  },
  {
   "cell_type": "code",
   "execution_count": 308,
   "metadata": {},
   "outputs": [
    {
     "data": {
      "text/plain": [
       "0    KNKA206\n",
       "1    KNKA310\n",
       "7    KNKA209\n",
       "8    KNKA351\n",
       "9    KNKR294\n",
       "Name: callsign_leaseID, dtype: object"
      ]
     },
     "execution_count": 308,
     "metadata": {},
     "output_type": "execute_result"
    }
   ],
   "source": [
    "# import cma_df from csv\n",
    "cma_df = pd.read_csv(cma_csv_path, dtype=object)\n",
    "\n",
    "# filter for Cellular Licenses only\n",
    "is_CL = (cma_df['radio_service'] == 'CL')\n",
    "CL_df = cma_df[is_CL]\n",
    "\n",
    "# create list of Cellular (CL) callsigns\n",
    "CL_callsign = CL_df['callsign_leaseID']\n",
    "CL_callsign.head()"
   ]
  },
  {
   "cell_type": "code",
   "execution_count": 309,
   "metadata": {},
   "outputs": [],
   "source": [
    "# write list of Cellular Callsigns to csv\n",
    "CL_callsign.to_csv(\"CL_CallSigns.csv\", index=False) \n"
   ]
  },
  {
   "cell_type": "code",
   "execution_count": 310,
   "metadata": {},
   "outputs": [],
   "source": [
    "! open CL_CallSigns.csv"
   ]
  },
  {
   "cell_type": "code",
   "execution_count": 306,
   "metadata": {},
   "outputs": [
    {
     "name": "stdout",
     "output_type": "stream",
     "text": [
      "2445 2445\n"
     ]
    },
    {
     "data": {
      "text/plain": [
       "0    KNKA206\n",
       "1    KNKA310\n",
       "7    KNKA209\n",
       "8    KNKA351\n",
       "9    KNKR294\n",
       "Name: callsign_leaseID, dtype: object"
      ]
     },
     "execution_count": 306,
     "metadata": {},
     "output_type": "execute_result"
    }
   ],
   "source": [
    "print(len(callsign_CL.unique()),\n",
    "      len(callsign_CL)\n",
    "     )\n",
    "\n",
    "callsign_CL.head()"
   ]
  },
  {
   "cell_type": "markdown",
   "metadata": {},
   "source": [
    "#### --- ignore test code ---"
   ]
  },
  {
   "cell_type": "code",
   "execution_count": 22,
   "metadata": {},
   "outputs": [
    {
     "name": "stdout",
     "output_type": "stream",
     "text": [
      "Attempt 1\n",
      "in except\n",
      "ERROR: (\"name 'x' is not defined\",)\n",
      "in finally\n",
      "j = 2, tries = 2\n",
      "Attempt 2\n",
      "in except\n",
      "ERROR: (\"name 'x' is not defined\",)\n",
      "in finally\n",
      "j = 4, tries = 3\n",
      "Attempt 3\n",
      "in except\n",
      "ERROR: (\"name 'x' is not defined\",)\n",
      "in finally\n",
      "j = 6, tries = 4\n"
     ]
    },
    {
     "data": {
      "text/plain": [
       "[[1, 1, 1], [1, 1, 1], [1, 1, 1]]"
      ]
     },
     "execution_count": 22,
     "metadata": {},
     "output_type": "execute_result"
    }
   ],
   "source": [
    "list = [2, 3, 4, 6, 7]\n",
    "test1 = []\n",
    "j = 0\n",
    "tries = 1\n",
    "out = []\n",
    "\n",
    "while (j < len(list) and tries <= 3):\n",
    "    print(\"Attempt\", tries)\n",
    "    try:\n",
    "        loop_out = ([1,1,1],2)\n",
    "        print(x)\n",
    "    except Exception as e:\n",
    "        print(\"in except\")\n",
    "        print('ERROR:', e.args)\n",
    "    finally:\n",
    "        print(\"in finally\")\n",
    "        out.append(loop_out[0])\n",
    "        j += loop_out[1]\n",
    "        tries += 1\n",
    "        print(\"j = %s, tries = %s\" % (j, tries))\n",
    "out"
   ]
  },
  {
   "cell_type": "code",
   "execution_count": 1,
   "metadata": {},
   "outputs": [],
   "source": [
    "def multitry_search(search_list):\n",
    "    # initialise counters & return objects\n",
    "    out_list = []\n",
    "\n",
    "    tick = time.time()\n",
    "\n",
    "    j = 0\n",
    "    tries = 1\n",
    "\n",
    "    # Try looping scrape over search list up to 3 times\n",
    "    while (j < len(search_list) and tries <= 3):\n",
    "        print(\"LOG[INFO]: Attempt 1\")\n",
    "        try:\n",
    "            loop_out = loop_scrape_table_for_cma(search_list[j:])\n",
    "        except Exception as e:\n",
    "            # update search start index and no. of tries\n",
    "            print(\"ERROR:\", e.args)\n",
    "            # wait random time before next try\n",
    "            wait_sec = random.randint(150,500)\n",
    "            time.sleep(wait_sec)\n",
    "        finally:\n",
    "            out_list.append(loop_out[0])\n",
    "            tries += 1\n",
    "            j += loop_out[1]\n",
    "\n",
    "    tock = time.time()\n",
    "\n",
    "    print(\"LOG[INFO]: Searched (%s + 1) mkt_codes out of %s total\\n\"\n",
    "          \"LOG[INFO]: TOTAL TIME for %s attempts was %2f seconds\"\n",
    "          % (j, len(search_list), tries, tock-tick)\n",
    "         )\n",
    "    \n",
    "    return out_list"
   ]
  },
  {
   "cell_type": "code",
   "execution_count": 347,
   "metadata": {},
   "outputs": [
    {
     "ename": "SyntaxError",
     "evalue": "invalid syntax (<ipython-input-347-f4b5d2edc7e2>, line 13)",
     "output_type": "error",
     "traceback": [
      "\u001b[0;36m  File \u001b[0;32m\"<ipython-input-347-f4b5d2edc7e2>\"\u001b[0;36m, line \u001b[0;32m13\u001b[0m\n\u001b[0;31m    \"something\"\u001b[0m\n\u001b[0m              ^\u001b[0m\n\u001b[0;31mSyntaxError\u001b[0m\u001b[0;31m:\u001b[0m invalid syntax\n"
     ]
    }
   ],
   "source": [
    "def try_test():\n",
    "    y = 5\n",
    "    try:\n",
    "        print(\"x is %s\" % x)\n",
    "    except:\n",
    "        print(\"error\")\n",
    "        time.sleep(0)\n",
    "        raise\n",
    "    # comment\n",
    "    finally:\n",
    "        print(\n",
    "            \"blahblah %s\\n\" % time.ctime()\n",
    "            \"something\" \n",
    "        )"
   ]
  },
  {
   "cell_type": "code",
   "execution_count": 217,
   "metadata": {},
   "outputs": [
    {
     "name": "stdout",
     "output_type": "stream",
     "text": [
      "error\n",
      "blahblah Fri Apr 26 08:25:17 2019\n",
      "something\n"
     ]
    },
    {
     "ename": "NameError",
     "evalue": "name 'x' is not defined",
     "output_type": "error",
     "traceback": [
      "\u001b[0;31m---------------------------------------------------------------------------\u001b[0m",
      "\u001b[0;31mNameError\u001b[0m                                 Traceback (most recent call last)",
      "\u001b[0;32m<ipython-input-217-18c93909ac7f>\u001b[0m in \u001b[0;36m<module>\u001b[0;34m()\u001b[0m\n\u001b[0;32m----> 1\u001b[0;31m \u001b[0mtry_test\u001b[0m\u001b[0;34m(\u001b[0m\u001b[0;34m)\u001b[0m\u001b[0;34m\u001b[0m\u001b[0m\n\u001b[0m",
      "\u001b[0;32m<ipython-input-216-37b698f0c035>\u001b[0m in \u001b[0;36mtry_test\u001b[0;34m()\u001b[0m\n\u001b[1;32m      2\u001b[0m     \u001b[0my\u001b[0m \u001b[0;34m=\u001b[0m \u001b[0;36m5\u001b[0m\u001b[0;34m\u001b[0m\u001b[0m\n\u001b[1;32m      3\u001b[0m     \u001b[0;32mtry\u001b[0m\u001b[0;34m:\u001b[0m\u001b[0;34m\u001b[0m\u001b[0m\n\u001b[0;32m----> 4\u001b[0;31m         \u001b[0mprint\u001b[0m\u001b[0;34m(\u001b[0m\u001b[0;34m\"x is %s\"\u001b[0m \u001b[0;34m%\u001b[0m \u001b[0mx\u001b[0m\u001b[0;34m)\u001b[0m\u001b[0;34m\u001b[0m\u001b[0m\n\u001b[0m\u001b[1;32m      5\u001b[0m     \u001b[0;32mexcept\u001b[0m\u001b[0;34m:\u001b[0m\u001b[0;34m\u001b[0m\u001b[0m\n\u001b[1;32m      6\u001b[0m         \u001b[0mprint\u001b[0m\u001b[0;34m(\u001b[0m\u001b[0;34m\"error\"\u001b[0m\u001b[0;34m)\u001b[0m\u001b[0;34m\u001b[0m\u001b[0m\n",
      "\u001b[0;31mNameError\u001b[0m: name 'x' is not defined"
     ]
    }
   ],
   "source": [
    "try_test()"
   ]
  }
 ],
 "metadata": {
  "kernelspec": {
   "display_name": "Python 3",
   "language": "python",
   "name": "python3"
  },
  "language_info": {
   "codemirror_mode": {
    "name": "ipython",
    "version": 3
   },
   "file_extension": ".py",
   "mimetype": "text/x-python",
   "name": "python",
   "nbconvert_exporter": "python",
   "pygments_lexer": "ipython3",
   "version": "3.6.5"
  }
 },
 "nbformat": 4,
 "nbformat_minor": 2
}
